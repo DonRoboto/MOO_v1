{
  "nbformat": 4,
  "nbformat_minor": 0,
  "metadata": {
    "colab": {
      "provenance": [],
      "authorship_tag": "ABX9TyNKv25c7xyWgpT90xu7Iamf",
      "include_colab_link": true
    },
    "kernelspec": {
      "name": "python3",
      "display_name": "Python 3"
    },
    "language_info": {
      "name": "python"
    }
  },
  "cells": [
    {
      "cell_type": "markdown",
      "metadata": {
        "id": "view-in-github",
        "colab_type": "text"
      },
      "source": [
        "<a href=\"https://colab.research.google.com/github/DonRoboto/MOO_v1/blob/main/T2_P2_P3_EA_version1.ipynb\" target=\"_parent\"><img src=\"https://colab.research.google.com/assets/colab-badge.svg\" alt=\"Open In Colab\"/></a>"
      ]
    },
    {
      "cell_type": "code",
      "execution_count": 1,
      "metadata": {
        "colab": {
          "base_uri": "https://localhost:8080/"
        },
        "id": "LMwL-YMsPFVo",
        "outputId": "0a525e1c-2909-4a61-9eb8-5e1fd7d74cec"
      },
      "outputs": [
        {
          "output_type": "stream",
          "name": "stdout",
          "text": [
            "Looking in indexes: https://pypi.org/simple, https://us-python.pkg.dev/colab-wheels/public/simple/\n",
            "Requirement already satisfied: bitstring in /usr/local/lib/python3.7/dist-packages (3.1.9)\n"
          ]
        }
      ],
      "source": [
        "!pip install bitstring\n"
      ]
    },
    {
      "cell_type": "code",
      "source": [
        "import numpy as np\n",
        "import random\n",
        "import bitstring as bits\n",
        "from sympy import *\n",
        "import scipy, pylab\n",
        "import matplotlib.pyplot as plt"
      ],
      "metadata": {
        "id": "ecBCON8QPIiG"
      },
      "execution_count": 2,
      "outputs": []
    },
    {
      "cell_type": "code",
      "source": [
        "class Funcion_P1_F1():\n",
        "    def Eval(self, X):\n",
        "        x1 = X[0][0]\n",
        "        x2 = X[1][0]\n",
        "        f =  (x1-1)**2 + (x2-1)**4\n",
        "        return f\n",
        "\n"
      ],
      "metadata": {
        "id": "3JEmArzsPIp6"
      },
      "execution_count": 3,
      "outputs": []
    },
    {
      "cell_type": "code",
      "source": [
        "class Funcion_P1_F2():\n",
        "    def Eval(self, X):\n",
        "        x1 = X[0][0]\n",
        "        x2 = X[1][0]\n",
        "        f =  (x1+1)**2 + (x2+1)**2\n",
        "        return f"
      ],
      "metadata": {
        "id": "_a5dcCyUPSdZ"
      },
      "execution_count": 4,
      "outputs": []
    },
    {
      "cell_type": "code",
      "source": [
        "class Funcion_P2_F1():\n",
        "    def Eval(self, X):\n",
        "        x1 = X[0][0]\n",
        "        x2 = X[1][0]\n",
        "        gamma = 0.7\n",
        "        f = 0.5 * (( ( 1 + (x1 + x2)**2 )**0.5 ) + ( ( 1 + (x1 - x2)**2 )**0.5 ) + x1 - x2) + gamma * exp(-(x1-x2)**2)\n",
        "        return f\n"
      ],
      "metadata": {
        "id": "-RGyS1cuPUi7"
      },
      "execution_count": 18,
      "outputs": []
    },
    {
      "cell_type": "code",
      "source": [
        "class Funcion_P2_F2():\n",
        "    def Eval(self, X):\n",
        "        x1 = X[0][0]\n",
        "        x2 = X[1][0]\n",
        "        gamma = 0.7\n",
        "        f = 0.5 * (( ( 1 + (x1 + x2)**2 )**0.5 ) + ( ( 1 + (x1 - x2)**2 )**0.5 ) - x1 + x2) + gamma * exp(-(x1-x2)**2)\n",
        "        return f"
      ],
      "metadata": {
        "id": "VBAx44fWPWS9"
      },
      "execution_count": 19,
      "outputs": []
    },
    {
      "cell_type": "code",
      "source": [
        "class Individuo():\n",
        "\n",
        "    def __init__(self, rango, x='', y=''):\n",
        "      self.rango=rango\n",
        "      if x!='':\n",
        "        if np.abs(x)>self.rango:\n",
        "          self.f_x = round(random.uniform(-self.rango, self.rango),2)\n",
        "        else:\n",
        "          self.f_x = float(x)\n",
        "\n",
        "        if np.abs(y)>self.rango:\n",
        "          self.f_y = round(random.uniform(-self.rango, self.rango),2)\n",
        "        else:\n",
        "          self.f_y = float(y)\n",
        "\n",
        "      else:\n",
        "        self.f_x = round(random.uniform(-self.rango, self.rango),2)\n",
        "        self.f_y = round(random.uniform(-self.rango, self.rango),2)\n",
        "      \n",
        "      self.cromosomas()\n",
        "\n",
        "      #FUNCIONES\n",
        "      self.fx_1 = Funcion_P2_F1()\n",
        "      self.fx_2 = Funcion_P2_F2()\n",
        "\n",
        "      #self.fx = (0.5*self.fx_1)+(0.5*self.fx_2)\n",
        "\n",
        "    def cromosomas(self):\n",
        "        aux_f_x = bits.BitArray(float=self.f_x, length=32)\n",
        "        aux_f_y = bits.BitArray(float=self.f_y, length=32)\n",
        "\n",
        "        self.b_x = list(aux_f_x.bin)\n",
        "        self.b_y = list(aux_f_y.bin)\n",
        " \n",
        "\n",
        "    def fittnes(self, w1, w2):\n",
        "      r1_1 = ''.join(self.b_x)\n",
        "      r1_2 = ''.join(self.b_y)\n",
        "\n",
        "      r2_1 = bits.BitArray(bin=r1_1).float\n",
        "      r2_2 = bits.BitArray(bin=r1_2).float\n",
        "\n",
        "      if np.abs(r2_1)>self.rango  or np.abs(r2_2)>self.rango :\n",
        "        result = 10000000\n",
        "      else:\n",
        "        ev_f1 = self.fx_1.Eval(np.array([[r2_1], [r2_2]]))\n",
        "        ev_f2 = self.fx_2.Eval(np.array([[r2_1], [r2_2]]))\n",
        "        result = (w1 * ev_f1 ) + (w2 * ev_f2 )\n",
        "\n",
        "      return result"
      ],
      "metadata": {
        "id": "LIbmbJILQNgH"
      },
      "execution_count": 20,
      "outputs": []
    },
    {
      "cell_type": "code",
      "source": [
        "class Poblacion():\n",
        "  p = []\n",
        "\n",
        "  def __init__(self, n='', rango=2):\n",
        "    self.p = []\n",
        "    self.rango=rango\n",
        "\n",
        "    if n!='':\n",
        "      for k in range(n):\n",
        "        i=Individuo(rango=self.rango)\n",
        "        self.p.append(i)\n",
        "\n",
        "\n",
        "  def cruza(self, ind_1, ind_2):\n",
        "    cro1_1 = ind_1.b_x\n",
        "    cro1_2 = ind_1.b_y\n",
        "\n",
        "    cro2_1 = ind_2.b_x\n",
        "    cro2_2 = ind_2.b_y\n",
        "\n",
        "    cruza1_x_top = cro1_1[:16]\n",
        "    cruza1_x_bot = cro1_1[16:]\n",
        "\n",
        "    cruza1_y_top = cro1_2[:16]\n",
        "    cruza1_y_bot = cro1_2[16:]\n",
        "\n",
        "    cruza2_x_top = cro2_1[:16]\n",
        "    cruza2_x_bot = cro2_1[16:]\n",
        "\n",
        "    cruza2_y_top = cro2_2[:16]\n",
        "    cruza2_y_bot = cro2_2[16:]\n",
        "\n",
        "    hijo_1_x = cruza1_x_top + cruza2_x_bot\n",
        "    hijo_1_y = cruza1_y_top + cruza2_y_bot\n",
        "\n",
        "    hijo_2_x = cruza2_x_top + cruza1_x_bot\n",
        "    hijo_2_y = cruza2_y_top + cruza1_y_bot\n",
        "\n",
        "    ch_1_x = hijo_1_x\n",
        "    ch_1_y = hijo_1_y\n",
        "\n",
        "    chs_1_x = ''.join(ch_1_x)\n",
        "    chs_1_y = ''.join(ch_1_y)\n",
        "\n",
        "    h1_2_1 = bits.BitArray(bin=chs_1_x)\n",
        "    h1_2_2 = bits.BitArray(bin=chs_1_y)\n",
        "      \n",
        "    h1_3_1 = h1_2_1.float\n",
        "    h1_3_2 = h1_2_2.float\n",
        "\n",
        "    ch_2_x = hijo_2_x\n",
        "    ch_2_y = hijo_2_y\n",
        "\n",
        "    chs_2_x = ''.join(ch_2_x)\n",
        "    chs_2_y = ''.join(ch_2_y)\n",
        "\n",
        "    h2_2_1 = bits.BitArray(bin=chs_2_x)\n",
        "    h2_2_2 = bits.BitArray(bin=chs_2_y)\n",
        "      \n",
        "    h2_3_1 = h2_2_1.float\n",
        "    h2_3_2 = h2_2_2.float\n",
        "\n",
        "    hijo_1 = Individuo(rango=self.rango, x=h1_3_1, y=h1_3_2)\n",
        "    hijo_2 = Individuo(rango=self.rango, x=h2_3_1, y=h2_3_2)\n",
        "\n",
        "    return hijo_1, hijo_2 \n",
        "\n",
        "\n",
        "  def mutacion(self, ind_1):\n",
        "    index = random.randint(0, 31)\n",
        "\n",
        "    c_aux_1 = ind_1.b_x[index]\n",
        "    c_aux_2 = ind_1.b_y[index]\n",
        "\n",
        "    if c_aux_1=='0':\n",
        "      ind_1.b_x[index]='1'\n",
        "    else:\n",
        "      ind_1.b_x[index]='0'\n",
        "\n",
        "    if c_aux_2=='0':\n",
        "      ind_1.b_y[index]='1'\n",
        "    else:\n",
        "      ind_1.b_y[index]='0'"
      ],
      "metadata": {
        "id": "4hSMZ0WwQRKS"
      },
      "execution_count": 21,
      "outputs": []
    },
    {
      "cell_type": "code",
      "source": [
        "#crear pesos\n",
        "w1 = [i/100 for i in range(0, 101)]\n",
        "w2=[]\n",
        "\n",
        "for i in range(len(w1)):\n",
        "  w2.append(round(1-w1[i],2))\n"
      ],
      "metadata": {
        "id": "_fCz_grqWRcW"
      },
      "execution_count": 22,
      "outputs": []
    },
    {
      "cell_type": "code",
      "source": [
        "result = []\n",
        "\n",
        "for iter in range(len(w1)):\n",
        "\n",
        "  pob_i = Poblacion(n=24, rango=3)\n",
        "\n",
        "  for m in range(20):\n",
        "    pob_n = Poblacion()\n",
        "    pob_aux = Poblacion()\n",
        "\n",
        "\n",
        "    #seleccionar los que se van a reproducir por torneo binario\n",
        "    for i in range(0, len(pob_i.p), 2):\n",
        "      if pob_i.p[i].fittnes(w1[iter], w2[iter])<= pob_i.p[i+1].fittnes(w1[iter], w2[iter]):\n",
        "        pob_aux.p.append(pob_i.p[i])\n",
        "      else:\n",
        "        pob_aux.p.append(pob_i.p[i+1])   \n",
        "\n",
        "    #quenes serán padres\n",
        "    pad_1 = Individuo(rango=3)\n",
        "    pad_2 = Individuo(rango=3)\n",
        "\n",
        "    for j in range(0, len(pob_aux.p), 2):\n",
        "      pad_1 = pob_aux.p[j]\n",
        "      pad_2 = pob_aux.p[j+1]\n",
        "\n",
        "      pob_n.p.append(pad_1)\n",
        "      pob_n.p.append(pad_2)\n",
        "\n",
        "      #cruza\n",
        "      h_1, h_2 = pob_n.cruza(pad_1, pad_2)\n",
        "\n",
        "     #mutacion\n",
        "      if random.uniform(0, 1)<0.1:\n",
        "        pob_n.mutacion(h_1)\n",
        "\n",
        "      if random.uniform(0, 1)<0.1:\n",
        "        pob_n.mutacion(h_2)\n",
        "\n",
        "      pob_n.p.append(h_1)\n",
        "      pob_n.p.append(h_2)\n",
        "\n",
        "   \n",
        "  for i in pob_n.p:\n",
        "    result.append([i.f_x, i.f_y])\n"
      ],
      "metadata": {
        "id": "6kz4gTatQgR3"
      },
      "execution_count": 10,
      "outputs": []
    },
    {
      "cell_type": "code",
      "source": [
        "graph_1 = []\n",
        "graph_2 = []\n",
        "\n",
        "fn1 = Funcion_P1_F1()\n",
        "fn2 = Funcion_P1_F2()\n",
        "\n",
        "for k in result:\n",
        "  x1 = k[0]\n",
        "  x2 = k[1]\n",
        "  \n",
        "  xk = np.array([[x1], [x2]])\n",
        "\n",
        "  ev1 = fn1.Eval(xk)\n",
        "  ev2 = fn2.Eval(xk)\n",
        "\n",
        "  graph_1.append(ev1)\n",
        "  graph_2.append(ev2)\n",
        "\n",
        "\n",
        "plt.scatter(graph_1, graph_2)\n",
        "plt.show()"
      ],
      "metadata": {
        "colab": {
          "base_uri": "https://localhost:8080/",
          "height": 267
        },
        "id": "CO36tgmMXKHv",
        "outputId": "dcc322c0-029c-4da7-a164-0d4d1d46c6a7"
      },
      "execution_count": 11,
      "outputs": [
        {
          "output_type": "display_data",
          "data": {
            "text/plain": [
              "<Figure size 432x288 with 1 Axes>"
            ],
            "image/png": "[encoded data removed]"
          },
          "metadata": {
            "needs_background": "light"
          }
        }
      ]
    },
    {
      "cell_type": "code",
      "source": [],
      "metadata": {
        "id": "rCutxYYLamr6"
      },
      "execution_count": null,
      "outputs": []
    },
    {
      "cell_type": "code",
      "source": [],
      "metadata": {
        "id": "gmUBLzfVamu_"
      },
      "execution_count": null,
      "outputs": []
    },
    {
      "cell_type": "code",
      "source": [
        "result = []\n",
        "\n",
        "for iter in range(len(w1)):\n",
        "\n",
        "  pob_i = Poblacion(n=24, rango=2)\n",
        "\n",
        "  for m in range(20):\n",
        "    pob_n = Poblacion()\n",
        "    pob_aux = Poblacion()\n",
        "\n",
        "\n",
        "    #seleccionar los que se van a reproducir por torneo binario\n",
        "    for i in range(0, len(pob_i.p), 2):\n",
        "      if pob_i.p[i].fittnes(w1[iter], w2[iter])<= pob_i.p[i+1].fittnes(w1[iter], w2[iter]):\n",
        "        pob_aux.p.append(pob_i.p[i])\n",
        "      else:\n",
        "        pob_aux.p.append(pob_i.p[i+1])   \n",
        "\n",
        "    #quenes serán padres\n",
        "    pad_1 = Individuo(rango=2)\n",
        "    pad_2 = Individuo(rango=2)\n",
        "\n",
        "    for j in range(0, len(pob_aux.p), 2):\n",
        "      pad_1 = pob_aux.p[j]\n",
        "      pad_2 = pob_aux.p[j+1]\n",
        "\n",
        "      pob_n.p.append(pad_1)\n",
        "      pob_n.p.append(pad_2)\n",
        "\n",
        "      #cruza\n",
        "      h_1, h_2 = pob_n.cruza(pad_1, pad_2)\n",
        "\n",
        "     #mutacion\n",
        "      if random.uniform(0, 1)<0.1:\n",
        "        pob_n.mutacion(h_1)\n",
        "\n",
        "      if random.uniform(0, 1)<0.1:\n",
        "        pob_n.mutacion(h_2)\n",
        "\n",
        "      pob_n.p.append(h_1)\n",
        "      pob_n.p.append(h_2)\n",
        "\n",
        "   \n",
        "  for i in pob_n.p:\n",
        "    result.append([i.f_x, i.f_y])\n"
      ],
      "metadata": {
        "id": "HlVYVqa6am1j"
      },
      "execution_count": 23,
      "outputs": []
    },
    {
      "cell_type": "code",
      "source": [
        "graph_1 = []\n",
        "graph_2 = []\n",
        "\n",
        "fn1 = Funcion_P2_F1()\n",
        "fn2 = Funcion_P2_F2()\n",
        "\n",
        "for k in result:\n",
        "  x1 = k[0]\n",
        "  x2 = k[1]\n",
        "  \n",
        "  xk = np.array([[x1], [x2]])\n",
        "\n",
        "  ev1 = fn1.Eval(xk)\n",
        "  ev2 = fn2.Eval(xk)\n",
        "\n",
        "  graph_1.append(ev1)\n",
        "  graph_2.append(ev2)\n",
        "\n",
        "\n",
        "plt.scatter(graph_1, graph_2)\n",
        "plt.show()"
      ],
      "metadata": {
        "colab": {
          "base_uri": "https://localhost:8080/",
          "height": 265
        },
        "id": "H2Dkz9GpRtCG",
        "outputId": "f0f164ae-d4b4-48d9-cdea-07bce19daffa"
      },
      "execution_count": 24,
      "outputs": [
        {
          "output_type": "display_data",
          "data": {
            "text/plain": [
              "<Figure size 432x288 with 1 Axes>"
            ],
            "image/png": "[encoded data removed]"
          },
          "metadata": {
            "needs_background": "light"
          }
        }
      ]
    }
  ]
}