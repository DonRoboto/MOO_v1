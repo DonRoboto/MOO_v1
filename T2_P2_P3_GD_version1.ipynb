{
  "nbformat": 4,
  "nbformat_minor": 0,
  "metadata": {
    "colab": {
      "provenance": [],
      "authorship_tag": "ABX9TyOlzWZPgRrK3bNJbt2BtlW8",
      "include_colab_link": true
    },
    "kernelspec": {
      "name": "python3",
      "display_name": "Python 3"
    },
    "language_info": {
      "name": "python"
    }
  },
  "cells": [
    {
      "cell_type": "markdown",
      "metadata": {
        "id": "view-in-github",
        "colab_type": "text"
      },
      "source": [
        "<a href=\"https://colab.research.google.com/github/DonRoboto/MOO_v1/blob/main/T2_P2_P3_GD_version1.ipynb\" target=\"_parent\"><img src=\"https://colab.research.google.com/assets/colab-badge.svg\" alt=\"Open In Colab\"/></a>"
      ]
    },
    {
      "cell_type": "code",
      "execution_count": 1,
      "metadata": {
        "id": "6iX8h6sX_RXp"
      },
      "outputs": [],
      "source": [
        "import numpy as np\n",
        "import random\n",
        "from sympy import *\n",
        "import scipy, pylab\n",
        "import matplotlib.pyplot as plt"
      ]
    },
    {
      "cell_type": "code",
      "source": [
        "#𝐹(𝑥_1,𝑥_2 ) = (𝑥_1−1)^2+(𝑥_2−1)^4; (𝑥_1+1)^2+(𝑥_2+1)^2] con 𝒳=[−3, 3]×[−3, 3] "
      ],
      "metadata": {
        "id": "W4vMmHj2AUxX"
      },
      "execution_count": 2,
      "outputs": []
    },
    {
      "cell_type": "code",
      "source": [
        "\n",
        "class Funcion_P1_F1():    \n",
        "    def __init__(self):\n",
        "        self.x1 = Symbol('x1')\n",
        "        self.x2 = Symbol('x2')\n",
        "        self.fx = (self.x1-1)**2 + (self.x2-1)**4\n"
      ],
      "metadata": {
        "id": "_e-SM6uO_VPl"
      },
      "execution_count": 3,
      "outputs": []
    },
    {
      "cell_type": "code",
      "source": [
        "\n",
        "class Funcion_P1_F2():    \n",
        "    def __init__(self):\n",
        "        self.x1 = Symbol('x1')\n",
        "        self.x2 = Symbol('x2')\n",
        "        self.fx = (self.x1+1)**2 + (self.x2+1)**2\n"
      ],
      "metadata": {
        "id": "9Lhfbo-e_YfY"
      },
      "execution_count": 4,
      "outputs": []
    },
    {
      "cell_type": "code",
      "source": [
        "\n",
        "class Funcion_P2_F1():    \n",
        "    def __init__(self):\n",
        "        self.x1 = Symbol('x1')\n",
        "        self.x2 = Symbol('x2')\n",
        "        gamma = 0.7\n",
        "        self.fx = 0.5 * (( ( 1 + (self.x1 + self.x2)**2 )**0.5 ) + ( ( 1 + (self.x1 - self.x2)**2 )**0.5 ) + self.x1 - self.x2) + gamma * exp(-(self.x1-self.x2)**2)\n"
      ],
      "metadata": {
        "id": "0w1I4cMYLx0w"
      },
      "execution_count": 5,
      "outputs": []
    },
    {
      "cell_type": "code",
      "source": [
        "\n",
        "class Funcion_P2_F2():    \n",
        "    def __init__(self):\n",
        "        self.x1 = Symbol('x1')\n",
        "        self.x2 = Symbol('x2')\n",
        "        gamma = 0.7\n",
        "        self.fx = 0.5 * (( ( 1 + (self.x1 + self.x2)**2 )**0.5 ) + ( ( 1 + (self.x1 - self.x2)**2 )**0.5 ) - self.x1 + self.x2) + gamma * exp(-(self.x1-self.x2)**2)\n"
      ],
      "metadata": {
        "id": "Vcqa4wEJLydm"
      },
      "execution_count": 6,
      "outputs": []
    },
    {
      "cell_type": "code",
      "source": [
        "def Eval(func, X):\n",
        "  f = func.fx.subs([(Symbol('x1'), X[0][0]), (Symbol('x2'), X[1][0])]).doit()\n",
        "  return f\n",
        "\n",
        "def Gradient(func):\n",
        "  d1 = np.array( [[func.diff(Symbol('x1'))], [func.diff(Symbol('x2')) ]] )\n",
        "  return d1\n",
        "\n",
        "def Gradient_k(func, K):\n",
        "  d1 = np.array( [[func.diff(Symbol('x1'))], [func.diff(Symbol('x2')) ]] )\n",
        "  v1 = d1[0][0].subs([(Symbol('x1'), K[0][0]), (Symbol('x2'), K[1][0])]).doit()\n",
        "  v2 = d1[1][0].subs([(Symbol('x1'), K[0][0]), (Symbol('x2'), K[1][0])]).doit()      \n",
        "  return np.array( [[v1], [v2 ]] )\n",
        "\n",
        "def pk(func, X):\n",
        "  direct = -1 * Gradient(func)\n",
        "  v1 = direct[0][0].subs([(Symbol('x1'), X[0][0]), (Symbol('x2'), X[1][0])]).doit()\n",
        "  v2 = direct[1][0].subs([(Symbol('x1'), X[0][0]), (Symbol('x2'), X[1][0])]).doit()      \n",
        "  return np.array( [[v1], [v2 ]] )\n",
        "  \n",
        "\n",
        "#Condiciones de Wolfe\n",
        "def StepSize(func, X, alpha, ro, c):\n",
        "  counter=0\n",
        "  pka = pk(func, X)\n",
        "  g = Gradient_k(func, X)\n",
        "  gT = np.transpose(g)\n",
        "\n",
        "  while True:\n",
        "    Xd = X + alpha * pka\n",
        "    fd = Eval(func, Xd)\n",
        "    fi = Eval(func, X) + c *alpha * np.matmul(gT, pka).item()\n",
        "    counter += 1\n",
        "        \n",
        "    if fd<fi or counter>100:\n",
        "      return alpha\n",
        "    else:\n",
        "      alpha = ro * alpha\n"
      ],
      "metadata": {
        "id": "TcCnrXjW_cVa"
      },
      "execution_count": 7,
      "outputs": []
    },
    {
      "cell_type": "code",
      "source": [
        "#crear pesos\n",
        "w1 = [i/100 for i in range(0, 101)]\n",
        "w2=[]\n",
        "\n",
        "for i in range(len(w1)):\n",
        "  w2.append(round(1-w1[i],2))\n",
        "\n"
      ],
      "metadata": {
        "id": "eL9ZH9W4MpWb"
      },
      "execution_count": 8,
      "outputs": []
    },
    {
      "cell_type": "code",
      "source": [],
      "metadata": {
        "id": "bEMEHKOLHvTV"
      },
      "execution_count": 8,
      "outputs": []
    },
    {
      "cell_type": "code",
      "source": [
        "\n",
        "rango_min = -3\n",
        "rango_max = 3\n",
        "\n",
        "func_1 = Funcion_P1_F1()\n",
        "func_2 = Funcion_P1_F2()\n",
        "\n",
        "graph_1=[]\n",
        "graph_2=[]\n",
        "\n",
        "\n",
        "for iter in range(len(w1)):\n",
        "  myFunc = (w1[iter]*func_1.fx)+(w2[iter]*func_2.fx)\n",
        "\n",
        "\n",
        "  # X inicial aleatorio\n",
        "  r1 = random.uniform(rango_min, rango_max)\n",
        "  r2 = random.uniform(rango_min, rango_max)\n",
        "  xk = np.array([[r1], [r2]])\n",
        "\n",
        "  #parametros iniciales\n",
        "  alpha = 0.1\n",
        "  ro = 0.1\n",
        "  c = 0.0001\n",
        "\n",
        "  for j in range(50):\n",
        "    pka = pk(myFunc, xk)\n",
        "    #alpha = StepSize(myFunc, xk, alpha, ro, c)    \n",
        "    xk = xk + (alpha * pka)\n",
        "\n",
        "  ev1 = Eval(func_1, xk)\n",
        "  ev2 = Eval(func_2, xk)\n",
        "    \n",
        "  graph_1.append(ev1)\n",
        "  graph_2.append(ev2)\n",
        "\n",
        "plt.scatter(graph_1, graph_2)\n",
        "plt.show()"
      ],
      "metadata": {
        "colab": {
          "base_uri": "https://localhost:8080/",
          "height": 265
        },
        "id": "aUE5BRPHGxHp",
        "outputId": "a0e54e63-1ec7-462d-8a85-39b499499b8c"
      },
      "execution_count": 9,
      "outputs": [
        {
          "output_type": "display_data",
          "data": {
            "text/plain": [
              "<Figure size 432x288 with 1 Axes>"
            ],
            "image/png": "[encoded data removed]"
          },
          "metadata": {
            "needs_background": "light"
          }
        }
      ]
    },
    {
      "cell_type": "code",
      "source": [],
      "metadata": {
        "id": "38KAGh6HMv66"
      },
      "execution_count": 9,
      "outputs": []
    },
    {
      "cell_type": "code",
      "source": [
        "\n",
        "rango_min = -2\n",
        "rango_max = 2\n",
        "\n",
        "func_1 = Funcion_P2_F1()\n",
        "func_2 = Funcion_P2_F2()\n",
        "\n",
        "graph_1=[]\n",
        "graph_2=[]\n",
        "\n",
        "\n",
        "for iter in range(len(w1)):\n",
        "  myFunc = (w1[iter]*func_1.fx)+(w2[iter]*func_2.fx)\n",
        "\n",
        "\n",
        "  # X inicial aleatorio\n",
        "  r1 = random.uniform(rango_min, rango_max)\n",
        "  r2 = random.uniform(rango_min, rango_max)\n",
        "  xk = np.array([[r1], [r2]])\n",
        "\n",
        "  #parametros iniciales\n",
        "  alpha = 0.1\n",
        "  ro = 0.1\n",
        "  c = 0.0001\n",
        "\n",
        "  for j in range(50):\n",
        "    pka = pk(myFunc, xk)\n",
        "    #alpha = StepSize(myFunc, xk, alpha, ro, c)    \n",
        "    xk = xk + (alpha * pka)\n",
        "\n",
        "  ev1 = Eval(func_1, xk)\n",
        "  ev2 = Eval(func_2, xk)\n",
        "    \n",
        "  graph_1.append(ev1)\n",
        "  graph_2.append(ev2)\n",
        "\n",
        "plt.scatter(graph_1, graph_2)\n",
        "plt.show()"
      ],
      "metadata": {
        "colab": {
          "base_uri": "https://localhost:8080/",
          "height": 265
        },
        "id": "qhIjw52XMwMO",
        "outputId": "4f523340-5dbd-4925-ab8f-1872c1774dac"
      },
      "execution_count": 10,
      "outputs": [
        {
          "output_type": "display_data",
          "data": {
            "text/plain": [
              "<Figure size 432x288 with 1 Axes>"
            ],
            "image/png": "[encoded data removed]"
          },
          "metadata": {
            "needs_background": "light"
          }
        }
      ]
    }
  ]
}