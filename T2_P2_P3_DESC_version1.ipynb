{
  "nbformat": 4,
  "nbformat_minor": 0,
  "metadata": {
    "colab": {
      "provenance": [],
      "authorship_tag": "ABX9TyO5UP8G0Qnhc87r/0ZXWRfS",
      "include_colab_link": true
    },
    "kernelspec": {
      "name": "python3",
      "display_name": "Python 3"
    },
    "language_info": {
      "name": "python"
    }
  },
  "cells": [
    {
      "cell_type": "markdown",
      "metadata": {
        "id": "view-in-github",
        "colab_type": "text"
      },
      "source": [
        "<a href=\"https://colab.research.google.com/github/DonRoboto/MOO_v1/blob/main/T2_P2_P3_DESC_version1.ipynb\" target=\"_parent\"><img src=\"https://colab.research.google.com/assets/colab-badge.svg\" alt=\"Open In Colab\"/></a>"
      ]
    },
    {
      "cell_type": "code",
      "execution_count": 1,
      "metadata": {
        "id": "v0cZN0MXU47A"
      },
      "outputs": [],
      "source": [
        "import numpy as np\n",
        "import random\n",
        "from sympy import *\n",
        "import matplotlib.pyplot as plt\n",
        "import scipy, pylab"
      ]
    },
    {
      "cell_type": "code",
      "source": [
        "p_1 = [i/100 for i in range(0, 101)]\n",
        "p_2=[]\n",
        "\n",
        "for i in range(len(p_1)):\n",
        "  p_2.append(round(1-p_1[i],2))\n"
      ],
      "metadata": {
        "id": "6VdvUbVwVAiv"
      },
      "execution_count": 2,
      "outputs": []
    },
    {
      "cell_type": "code",
      "source": [
        "\n",
        "x_1 = Symbol('x_1')\n",
        "x_2 = Symbol('x_2')\n",
        "\n",
        "#𝐹(𝑥_1,𝑥_2 ) = (𝑥_1−1)^2+(𝑥_2−1)^4; (𝑥_1+1)^2+(𝑥_2+1)^2] con 𝒳=[−3, 3]×[−3, 3] \n",
        "\n",
        "func_P1_F1 = (x_1-1)**2 + (x_2-1)**4\n",
        "func_P1_F2 = (x_1+1)**2 + (x_2+1)**2\n",
        "\n",
        "gamma = 0.7 \n",
        "func_P2_F1 = 0.5 * (( ( 1 + (x_1 + x_2)**2 )**0.5 ) + ( ( 1 + (x_1 - x_2)**2 )**0.5 ) + x_1 - x_2) + gamma * exp(-(x_1-x_2)**2)\n",
        "func_P2_F2 = 0.5 * (( ( 1 + (x_1 + x_2)**2 )**0.5 ) + ( ( 1 + (x_1 - x_2)**2 )**0.5 ) - x_1 + x_2) + gamma * exp(-(x_1-x_2)**2)\n"
      ],
      "metadata": {
        "id": "rgQ7jhOAVPMe"
      },
      "execution_count": 3,
      "outputs": []
    },
    {
      "cell_type": "code",
      "source": [
        "\n",
        "def Gradient(fx, X):\n",
        "  return np.array( [ [fx.diff(x_1).subs( [(x_1, float(X[0])), (x_2, float(X[1]))]  )], [fx.diff(x_2).subs( [(x_1, float(X[0])), (x_2, float(X[1]))]  ) ] ] )  \n"
      ],
      "metadata": {
        "id": "l6AZc9NmVVh5"
      },
      "execution_count": 4,
      "outputs": []
    },
    {
      "cell_type": "code",
      "source": [
        "\n",
        "\n",
        "ax = pylab.subplot(111)\n",
        "\n",
        "graph1=[]\n",
        "graph2=[]\n",
        "\n",
        "#vector de referencia\n",
        "d = np.array([[-1],[-1]]).T\n",
        "\n",
        "for k in range(100):\n",
        "  #puntos de evaluacion X0\n",
        "  xv0 = random.randint(-3, 3)\n",
        "  xv1 = random.randint(-3, 3)\n",
        "  X1 = np.array([[xv0], [xv1]])\n",
        "\n",
        "  #gradiente1\n",
        "  grad1 = Gradient(func_P1_F1, X1)\n",
        "  xg1_1 = float(grad1[0][0])\n",
        "  xg1_2 = float(grad1[1][0])\n",
        "  ev1 = func_P1_F1.subs([ (x_1, float(xg1_1)), (x_2, float(xg1_2)) ] )\n",
        "\n",
        "  grad2 = Gradient(func_P1_F2, X1)\n",
        "  xg2_1 = float(grad2[0][0])\n",
        "  xg2_2 = float(grad2[1][0])\n",
        "  ev2 = func_P1_F2.subs([ (x_1, float(xg2_1)), (x_2, float(xg2_2)) ] )\n",
        "\n",
        "  m=np.array([[float(ev1), float(ev2)]])\n",
        "\n",
        "  #pseudo inversa\n",
        "  pinv = np.linalg.pinv(m)\n",
        "\n",
        "  res=np.matmul(d, pinv)\n",
        "\n",
        "  v = res[0][0]\n",
        "\n",
        "  xv0_1 = xv0 + v\n",
        "  xv1_1 = xv1 + v\n",
        "\n",
        "  X1_1 = np.array([[xv0_1], [xv1_1]])\n",
        "\n",
        "  ra = func_P1_F1.subs([ (x_1, float(X1_1[0])), (x_2, float(X1_1[1])) ] )\n",
        "  rb = func_P1_F2.subs([ (x_1, float(X1_1[0])), (x_2, float(X1_1[1])) ] )\n",
        "\n",
        "  graph1.append(ra)\n",
        "  graph2.append(rb)\n",
        "\n",
        "  for i in range(100):\n",
        "    grad1 = Gradient(func_P1_F1, X1_1)\n",
        "    xg1_1 = float(grad1[0][0])\n",
        "    xg1_2 = float(grad1[1][0])\n",
        "    ev1 = func_P1_F1.subs([ (x_1, float(xg1_1)), (x_2, float(xg1_2)) ] )\n",
        "\n",
        "    grad2 = Gradient(func_P1_F2, X1_1)\n",
        "    xg2_1 = float(grad2[0][0])\n",
        "    xg2_2 = float(grad2[1][0])\n",
        "    ev2 = func_P1_F2.subs([ (x_1, float(xg2_1)), (x_2, float(xg2_2)) ] )\n",
        "\n",
        "    m=np.array([[float(ev1), float(ev2)]])\n",
        "\n",
        "    #pseudo inversa\n",
        "    pinv = np.linalg.pinv(m)\n",
        "\n",
        "    res=np.matmul(d, pinv)\n",
        "\n",
        "    v  = res[0][0]\n",
        "\n",
        "    xv0_1 = xv0_1 + v\n",
        "    xv1_1 = xv1_1 + v\n",
        "\n",
        "    X1_1 = np.array([[xv0_1], [xv1_1]])\n",
        "\n",
        "    ra = func_P1_F1.subs([ (x_1, float(X1_1[0])), (x_2, float(X1_1[1])) ] )\n",
        "    rb = func_P1_F2.subs([ (x_1, float(X1_1[0])), (x_2, float(X1_1[1])) ] )\n",
        "\n",
        "    graph1.append(ra)\n",
        "    graph2.append(rb)\n",
        "\n",
        "    plt.scatter(graph1, graph2)\n",
        "\n",
        "\n",
        "ax.set_xlabel('f1')\n",
        "ax.set_ylabel('f2')\n",
        "\n",
        "\n",
        "\n",
        "plt.xlim(0, 20)\n",
        "plt.ylim(0, 8)\n",
        "plt.show()"
      ],
      "metadata": {
        "id": "Vdl3YB80U6Ik",
        "outputId": "28f48564-8af5-4c9b-cbb2-dcab1a81d295",
        "colab": {
          "base_uri": "https://localhost:8080/",
          "height": 283
        }
      },
      "execution_count": 5,
      "outputs": [
        {
          "output_type": "display_data",
          "data": {
            "text/plain": [
              "<Figure size 432x288 with 1 Axes>"
            ],
            "image/png": "[encoded data removed]"
          },
          "metadata": {
            "needs_background": "light"
          }
        }
      ]
    },
    {
      "cell_type": "code",
      "source": [],
      "metadata": {
        "id": "1NQKtgaiYYu9"
      },
      "execution_count": 5,
      "outputs": []
    },
    {
      "cell_type": "code",
      "source": [
        "\n",
        "\n",
        "ax = pylab.subplot(111)\n",
        "\n",
        "graph1=[]\n",
        "graph2=[]\n",
        "\n",
        "#vector de referencia\n",
        "d = np.array([[-1],[-1]]).T\n",
        "\n",
        "for k in range(100):\n",
        "  #puntos de evaluacion X0\n",
        "  xv0 = random.randint(-2, 2)\n",
        "  xv1 = random.randint(-2, 2)\n",
        "  X1 = np.array([[xv0], [xv1]])\n",
        "\n",
        "  #gradiente1\n",
        "  grad1 = Gradient(func_P2_F1, X1)\n",
        "  xg1_1 = float(grad1[0][0])\n",
        "  xg1_2 = float(grad1[1][0])\n",
        "  ev1 = func_P2_F1.subs([ (x_1, float(xg1_1)), (x_2, float(xg1_2)) ] )\n",
        "\n",
        "  grad2 = Gradient(func_P1_F2, X1)\n",
        "  xg2_1 = float(grad2[0][0])\n",
        "  xg2_2 = float(grad2[1][0])\n",
        "  ev2 = func_P2_F2.subs([ (x_1, float(xg2_1)), (x_2, float(xg2_2)) ] )\n",
        "\n",
        "  m=np.array([[float(ev1), float(ev2)]])\n",
        "\n",
        "  #pseudo inversa\n",
        "  pinv = np.linalg.pinv(m)\n",
        "\n",
        "  res=np.matmul(d, pinv)\n",
        "\n",
        "  v = res[0][0]\n",
        "\n",
        "  xv0_1 = xv0 + v\n",
        "  xv1_1 = xv1 + v\n",
        "\n",
        "  X1_1 = np.array([[xv0_1], [xv1_1]])\n",
        "\n",
        "  ra = func_P2_F1.subs([ (x_1, float(X1_1[0])), (x_2, float(X1_1[1])) ] )\n",
        "  rb = func_P2_F2.subs([ (x_1, float(X1_1[0])), (x_2, float(X1_1[1])) ] )\n",
        "\n",
        "  graph1.append(ra)\n",
        "  graph2.append(rb)\n",
        "\n",
        "  for i in range(100):\n",
        "    grad1 = Gradient(func_P2_F1, X1_1)\n",
        "    xg1_1 = float(grad1[0][0])\n",
        "    xg1_2 = float(grad1[1][0])\n",
        "    ev1 = func_P2_F1.subs([ (x_1, float(xg1_1)), (x_2, float(xg1_2)) ] )\n",
        "\n",
        "    grad2 = Gradient(func_P2_F2, X1_1)\n",
        "    xg2_1 = float(grad2[0][0])\n",
        "    xg2_2 = float(grad2[1][0])\n",
        "    ev2 = func_P2_F2.subs([ (x_1, float(xg2_1)), (x_2, float(xg2_2)) ] )\n",
        "\n",
        "    m=np.array([[float(ev1), float(ev2)]])\n",
        "\n",
        "    #pseudo inversa\n",
        "    pinv = np.linalg.pinv(m)\n",
        "\n",
        "    res=np.matmul(d, pinv)\n",
        "\n",
        "    v  = res[0][0]\n",
        "\n",
        "    xv0_1 = xv0_1 + v\n",
        "    xv1_1 = xv1_1 + v\n",
        "\n",
        "    X1_1 = np.array([[xv0_1], [xv1_1]])\n",
        "\n",
        "    ra = func_P2_F1.subs([ (x_1, float(X1_1[0])), (x_2, float(X1_1[1])) ] )\n",
        "    rb = func_P2_F2.subs([ (x_1, float(X1_1[0])), (x_2, float(X1_1[1])) ] )\n",
        "\n",
        "    graph1.append(ra)\n",
        "    graph2.append(rb)\n",
        "\n",
        "    plt.scatter(graph1, graph2)\n",
        "\n",
        "\n",
        "ax.set_xlabel('f1')\n",
        "ax.set_ylabel('f2')\n",
        "\n",
        "\n",
        "\n",
        "plt.xlim(0, 3)\n",
        "plt.ylim(0, 3)\n",
        "plt.show()"
      ],
      "metadata": {
        "id": "JIibbnWQYZMt",
        "outputId": "520d06bb-cf2d-4dd1-e3f9-14b99481b2cc",
        "colab": {
          "base_uri": "https://localhost:8080/",
          "height": 283
        }
      },
      "execution_count": 6,
      "outputs": [
        {
          "output_type": "display_data",
          "data": {
            "text/plain": [
              "<Figure size 432x288 with 1 Axes>"
            ],
            "image/png": "[encoded data removed]"
          },
          "metadata": {
            "needs_background": "light"
          }
        }
      ]
    },
    {
      "cell_type": "code",
      "source": [
        "plt.scatter(graph1, graph2)\n",
        "\n",
        "\n",
        "ax.set_xlabel('f1')\n",
        "ax.set_ylabel('f2')\n",
        "\n",
        "\n",
        "\n",
        "plt.xlim(0, 5)\n",
        "plt.ylim(0, 5)\n",
        "plt.show()"
      ],
      "metadata": {
        "id": "ZP7ixxeMciYh",
        "outputId": "4a906835-59d3-49b6-eb6c-23f153600e7c",
        "colab": {
          "base_uri": "https://localhost:8080/",
          "height": 269
        }
      },
      "execution_count": 9,
      "outputs": [
        {
          "output_type": "display_data",
          "data": {
            "text/plain": [
              "<Figure size 432x288 with 1 Axes>"
            ],
            "image/png": "[encoded data removed]"
          },
          "metadata": {
            "needs_background": "light"
          }
        }
      ]
    }
  ]
}