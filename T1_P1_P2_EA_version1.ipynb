{
  "nbformat": 4,
  "nbformat_minor": 0,
  "metadata": {
    "colab": {
      "provenance": [],
      "authorship_tag": "ABX9TyOPguSxhBCieQ06YHIW+DfF",
      "include_colab_link": true
    },
    "kernelspec": {
      "name": "python3",
      "display_name": "Python 3"
    },
    "language_info": {
      "name": "python"
    }
  },
  "cells": [
    {
      "cell_type": "markdown",
      "metadata": {
        "id": "view-in-github",
        "colab_type": "text"
      },
      "source": [
        "<a href=\"https://colab.research.google.com/github/DonRoboto/MOO_v1/blob/main/T1_P1_P2_EA_version1.ipynb\" target=\"_parent\"><img src=\"https://colab.research.google.com/assets/colab-badge.svg\" alt=\"Open In Colab\"/></a>"
      ]
    },
    {
      "cell_type": "code",
      "source": [
        "!pip install bitstring\n"
      ],
      "metadata": {
        "colab": {
          "base_uri": "https://localhost:8080/"
        },
        "id": "GqhFt0cdfjY7",
        "outputId": "682ad6e3-ee44-41bb-cd2f-46147f320f69"
      },
      "execution_count": 1,
      "outputs": [
        {
          "output_type": "stream",
          "name": "stdout",
          "text": [
            "Looking in indexes: https://pypi.org/simple, https://us-python.pkg.dev/colab-wheels/public/simple/\n",
            "Requirement already satisfied: bitstring in /usr/local/lib/python3.7/dist-packages (3.1.9)\n"
          ]
        }
      ]
    },
    {
      "cell_type": "code",
      "source": [
        "import numpy as np\n",
        "import random\n",
        "import bitstring as bits\n",
        "from sympy import *\n",
        "import scipy, pylab"
      ],
      "metadata": {
        "id": "mt6SzU9CflM8"
      },
      "execution_count": 2,
      "outputs": []
    },
    {
      "cell_type": "code",
      "source": [
        "class Esfera():\n",
        "    def Eval(self, X):\n",
        "        x1 = X[0][0]\n",
        "        x2 = X[1][0]\n",
        "        f =  x1**2 + x2**2\n",
        "        return f\n"
      ],
      "metadata": {
        "id": "BVxG2hjBfSGa"
      },
      "execution_count": 3,
      "outputs": []
    },
    {
      "cell_type": "code",
      "source": [
        "class Schwefel():    \n",
        "    def Eval(self, X):\n",
        "        x1 = X[0][0]\n",
        "        x2 = X[1][0]\n",
        "        f =  (418.8929 * 2) - ( (x1 * np.sin( np.sqrt(  np.abs(x1)  ) ) )  + (x2 * np.sin( np.sqrt(  np.abs(x2)   ) ))  )\n",
        "        return f\n"
      ],
      "metadata": {
        "id": "z-b3ivTXfUIZ"
      },
      "execution_count": 4,
      "outputs": []
    },
    {
      "cell_type": "code",
      "source": [
        "class Individuo_Esfera():\n",
        "    def __init__(self, x='', y=''):\n",
        "      if x!='':\n",
        "        if np.abs(x)>5.12:\n",
        "          self.f_x = round(random.uniform(-5.12, 5.12),2)\n",
        "        else:\n",
        "          self.f_x = float(x)\n",
        "\n",
        "        if np.abs(y)>5.12:\n",
        "          self.f_y = round(random.uniform(-5.12, 5.12),2)\n",
        "        else:\n",
        "          self.f_y = float(y)\n",
        "\n",
        "      else:\n",
        "        self.f_x = round(random.uniform(-5.12, 5.12),2)\n",
        "        self.f_y = round(random.uniform(-5.12, 5.12),2)\n",
        "      \n",
        "      self.cromosomas()\n",
        "      self.fx = Esfera()\n",
        "\n",
        "    def cromosomas(self):\n",
        "        aux_f_x = bits.BitArray(float=self.f_x, length=32)\n",
        "        aux_f_y = bits.BitArray(float=self.f_y, length=32)\n",
        "\n",
        "        self.b_x = list(aux_f_x.bin)\n",
        "        self.b_y = list(aux_f_y.bin)\n",
        " \n",
        "\n",
        "    def fittnes(self):\n",
        "      r1_1 = ''.join(self.b_x)\n",
        "      r1_2 = ''.join(self.b_y)\n",
        "\n",
        "      r2_1 = bits.BitArray(bin=r1_1).float\n",
        "      r2_2 = bits.BitArray(bin=r1_2).float\n",
        "\n",
        "      result = self.fx.Eval(np.array([[r2_1], [r2_2]]))\n",
        "      return result\n",
        "\n"
      ],
      "metadata": {
        "id": "acJCGOsnfvDT"
      },
      "execution_count": 5,
      "outputs": []
    },
    {
      "cell_type": "code",
      "source": [
        "class Individuo_Schwefel():\n",
        "    def __init__(self, x='', y=''):\n",
        "      if x!='':\n",
        "        if np.abs(x)>500:\n",
        "          self.f_x = round(random.uniform(-500, 500),2)\n",
        "        else:\n",
        "          self.f_x = float(x)\n",
        "\n",
        "        if np.abs(y)>500:\n",
        "          self.f_y = round(random.uniform(-500, 500),2)\n",
        "        else:\n",
        "          self.f_y = float(y)\n",
        "      else:\n",
        "        self.f_x = round(random.uniform(-500, 500),2)\n",
        "        self.f_y = round(random.uniform(-500, 500),2)\n",
        "      self.cromosomas()\n",
        "      self.fx = Schwefel()\n",
        "\n",
        "    def cromosomas(self):\n",
        "        aux_f_x = bits.BitArray(float=self.f_x, length=32)\n",
        "        aux_f_y = bits.BitArray(float=self.f_y, length=32)\n",
        "\n",
        "        self.b_x = list(aux_f_x.bin)\n",
        "        self.b_y = list(aux_f_y.bin)\n",
        " \n",
        "\n",
        "    def fittnes(self):\n",
        "      r1_1 = ''.join(self.b_x)\n",
        "      r1_2 = ''.join(self.b_y)\n",
        "\n",
        "      r2_1 = bits.BitArray(bin=r1_1).float\n",
        "      r2_2 = bits.BitArray(bin=r1_2).float\n",
        "\n",
        "      result = self.fx.Eval(np.array([[r2_1], [r2_2]]))\n",
        "      return result\n",
        "\n"
      ],
      "metadata": {
        "id": "gb84Xr8iuC0b"
      },
      "execution_count": 6,
      "outputs": []
    },
    {
      "cell_type": "code",
      "source": [
        "class Poblacion():\n",
        "  p = []\n",
        "\n",
        "  def __init__(self, t, n=''):\n",
        "    self.p = []\n",
        "    self.t = t\n",
        "    if n!='':\n",
        "      for k in range(n):\n",
        "        if self.t==1:\n",
        "          i=Individuo_Esfera()\n",
        "          self.p.append(i)\n",
        "        if self.t==2:\n",
        "          i=Individuo_Schwefel()\n",
        "          self.p.append(i)   \n",
        "\n",
        "\n",
        "  def cruza(self, ind_1, ind_2):\n",
        "    cro1_1 = ind_1.b_x\n",
        "    cro1_2 = ind_1.b_y\n",
        "\n",
        "    cro2_1 = ind_2.b_x\n",
        "    cro2_2 = ind_2.b_y\n",
        "\n",
        "    cruza1_x_top = cro1_1[:16]\n",
        "    cruza1_x_bot = cro1_1[16:]\n",
        "\n",
        "    cruza1_y_top = cro1_2[:16]\n",
        "    cruza1_y_bot = cro1_2[16:]\n",
        "\n",
        "    cruza2_x_top = cro2_1[:16]\n",
        "    cruza2_x_bot = cro2_1[16:]\n",
        "\n",
        "    cruza2_y_top = cro2_2[:16]\n",
        "    cruza2_y_bot = cro2_2[16:]\n",
        "\n",
        "    hijo_1_x = cruza1_x_top + cruza2_x_bot\n",
        "    hijo_1_y = cruza1_y_top + cruza2_y_bot\n",
        "\n",
        "    hijo_2_x = cruza2_x_top + cruza1_x_bot\n",
        "    hijo_2_y = cruza2_y_top + cruza1_y_bot\n",
        "\n",
        "    ch_1_x = hijo_1_x\n",
        "    ch_1_y = hijo_1_y\n",
        "\n",
        "    chs_1_x = ''.join(ch_1_x)\n",
        "    chs_1_y = ''.join(ch_1_y)\n",
        "\n",
        "    h1_2_1 = bits.BitArray(bin=chs_1_x)\n",
        "    h1_2_2 = bits.BitArray(bin=chs_1_y)\n",
        "      \n",
        "    h1_3_1 = h1_2_1.float\n",
        "    h1_3_2 = h1_2_2.float\n",
        "\n",
        "    ch_2_x = hijo_2_x\n",
        "    ch_2_y = hijo_2_y\n",
        "\n",
        "    chs_2_x = ''.join(ch_2_x)\n",
        "    chs_2_y = ''.join(ch_2_y)\n",
        "\n",
        "    h2_2_1 = bits.BitArray(bin=chs_2_x)\n",
        "    h2_2_2 = bits.BitArray(bin=chs_2_y)\n",
        "      \n",
        "    h2_3_1 = h2_2_1.float\n",
        "    h2_3_2 = h2_2_2.float\n",
        "\n",
        "    if self.t==1:\n",
        "      hijo_1 = Individuo_Esfera(h1_3_1, h1_3_2)\n",
        "      hijo_2 = Individuo_Esfera(h2_3_1, h2_3_2)\n",
        "    if self.t==2:\n",
        "      hijo_1 = Individuo_Schwefel(h1_3_1, h1_3_2)\n",
        "      hijo_2 = Individuo_Schwefel(h2_3_1, h2_3_2)\n",
        "\n",
        "    return hijo_1, hijo_2 \n",
        "\n",
        "\n",
        "  def mutacion(self, ind_1):\n",
        "    index = random.randint(0, 31)\n",
        "\n",
        "    c_aux_1 = ind_1.b_x[index]\n",
        "    c_aux_2 = ind_1.b_y[index]\n",
        "\n",
        "    if c_aux_1=='0':\n",
        "      ind_1.b_x[index]='1'\n",
        "    else:\n",
        "      ind_1.b_x[index]='0'\n",
        "\n",
        "    if c_aux_2=='0':\n",
        "      ind_1.b_y[index]='1'\n",
        "    else:\n",
        "      ind_1.b_y[index]='0'"
      ],
      "metadata": {
        "id": "YhP6oYVUf0Qo"
      },
      "execution_count": 7,
      "outputs": []
    },
    {
      "cell_type": "code",
      "source": [
        "result = np.zeros((10, 200))\n",
        "\n",
        "for n in range(10):\n",
        "  pob_i = Poblacion(t=1, n=200)\n",
        "\n",
        "  for m in range(200):\n",
        "    pob_n = Poblacion(t=1)\n",
        "    pob_aux = Poblacion(t=1)\n",
        "\n",
        "\n",
        "    #seleccionar los que se van a reproducir por torneo binario\n",
        "    for i in range(0, len(pob_i.p), 2):\n",
        "      if pob_i.p[i].fittnes()<= pob_i.p[i+1].fittnes():\n",
        "        pob_aux.p.append(pob_i.p[i])\n",
        "      else:\n",
        "        pob_aux.p.append(pob_i.p[i+1])   \n",
        "\n",
        "    #quenes serán padres\n",
        "    pad_1 = Individuo_Esfera()\n",
        "    pad_2 = Individuo_Esfera()\n",
        "\n",
        "    for j in range(0, len(pob_aux.p), 2):\n",
        "      pad_1 = pob_aux.p[j]\n",
        "      pad_2 = pob_aux.p[j+1]\n",
        "\n",
        "      pob_n.p.append(pad_1)\n",
        "      pob_n.p.append(pad_2)\n",
        "\n",
        "      #cruza\n",
        "      h_1, h_2 = pob_n.cruza(pad_1, pad_2)\n",
        "\n",
        "     #mutacion\n",
        "      if random.uniform(0, 1)<0.0000001:\n",
        "        pob_n.mutacion(h_1)\n",
        "\n",
        "      if random.uniform(0, 1)<0.000001:\n",
        "        pob_n.mutacion(h_2)\n",
        "\n",
        "      pob_n.p.append(h_1)\n",
        "      pob_n.p.append(h_2)\n",
        "  \n",
        "  j=0  \n",
        "  for i in pob_n.p:\n",
        "    result[n][j] = i.fittnes()\n",
        "    j += 1\n"
      ],
      "metadata": {
        "id": "J6v7vtMegjIt"
      },
      "execution_count": 8,
      "outputs": []
    },
    {
      "cell_type": "code",
      "source": [
        "#graficar resultados\n",
        "ax = pylab.subplot(111)\n",
        "\n",
        "x=[]\n",
        "y=[]\n",
        "for j in range(10):\n",
        "  x.append(j)\n",
        "  y.append(np.min(result[j]))\n",
        "\n",
        "  ax.scatter(x, y)\n",
        "\n",
        "ax.figure.show()"
      ],
      "metadata": {
        "id": "bmqfWwlvlz0G",
        "outputId": "7e0a4e1a-654b-46b0-e1ae-87ba79240bce",
        "colab": {
          "base_uri": "https://localhost:8080/",
          "height": 265
        }
      },
      "execution_count": 9,
      "outputs": [
        {
          "output_type": "display_data",
          "data": {
            "text/plain": [
              "<Figure size 432x288 with 1 Axes>"
            ],
            "image/png": "[encoded data removed]"
          },
          "metadata": {
            "needs_background": "light"
          }
        }
      ]
    },
    {
      "cell_type": "code",
      "source": [
        "#solo resultados finales\n",
        "rf = []\n",
        "for k in range(10):\n",
        "  rf.append(np.min(result[k]))\n",
        "\n",
        "print(\"mínimo: {}\".format(np.min(rf)))\n",
        "print(\"máximo: {}\".format(np.max(rf)))\n",
        "print(\"media: {}\".format(np.mean(rf)))\n",
        "print(\"mediana: {}\".format(np.median(rf)))\n",
        "print(\"desviación estándar: {}\".format(np.std(rf)))"
      ],
      "metadata": {
        "id": "OtXTgLGKokQp",
        "outputId": "7bbfb76e-d240-42dd-c296-1a0c5cf64d78",
        "colab": {
          "base_uri": "https://localhost:8080/"
        }
      },
      "execution_count": 10,
      "outputs": [
        {
          "output_type": "stream",
          "name": "stdout",
          "text": [
            "mínimo: 0.0073613850889145405\n",
            "máximo: 0.3485000112056733\n",
            "media: 0.154121737400418\n",
            "mediana: 0.1510999988704922\n",
            "desviación estándar: 0.11618693732729972\n"
          ]
        }
      ]
    },
    {
      "cell_type": "code",
      "source": [],
      "metadata": {
        "id": "TNAMsynSvnDr"
      },
      "execution_count": 10,
      "outputs": []
    },
    {
      "cell_type": "code",
      "source": [
        "result = np.zeros((10, 200))\n",
        "\n",
        "for n in range(10):\n",
        "  pob_i = Poblacion(t=2, n=200)\n",
        "\n",
        "  for m in range(200):\n",
        "    pob_n = Poblacion(t=2)\n",
        "    pob_aux = Poblacion(t=2)\n",
        "\n",
        "\n",
        "    #seleccionar los que se van a reproducir por torneo binario\n",
        "    for i in range(0, len(pob_i.p), 2):\n",
        "      if pob_i.p[i].fittnes()<= pob_i.p[i+1].fittnes():\n",
        "        pob_aux.p.append(pob_i.p[i])\n",
        "      else:\n",
        "        pob_aux.p.append(pob_i.p[i+1])   \n",
        "\n",
        "    #quenes serán padres\n",
        "    pad_1 = Individuo_Schwefel()\n",
        "    pad_2 = Individuo_Schwefel()\n",
        "\n",
        "    for j in range(0, len(pob_aux.p), 2):\n",
        "      pad_1 = pob_aux.p[j]\n",
        "      pad_2 = pob_aux.p[j+1]\n",
        "\n",
        "      pob_n.p.append(pad_1)\n",
        "      pob_n.p.append(pad_2)\n",
        "\n",
        "      #cruza\n",
        "      h_1, h_2 = pob_n.cruza(pad_1, pad_2)\n",
        "\n",
        "     #mutacion\n",
        "      if random.uniform(0, 1)<0.1:\n",
        "        pob_n.mutacion(h_1)\n",
        "\n",
        "      if random.uniform(0, 1)<0.1:\n",
        "        pob_n.mutacion(h_2)\n",
        "\n",
        "      pob_n.p.append(h_1)\n",
        "      pob_n.p.append(h_2)\n",
        "  \n",
        "  j=0  \n",
        "  for i in pob_n.p:\n",
        "    result[n][j] = i.fittnes()\n",
        "    j += 1"
      ],
      "metadata": {
        "id": "KbY4xwAUvnJp"
      },
      "execution_count": 11,
      "outputs": []
    },
    {
      "cell_type": "code",
      "source": [
        "#graficar resultados\n",
        "ax = pylab.subplot(111)\n",
        "\n",
        "x=[]\n",
        "y=[]\n",
        "for j in range(10):\n",
        "  x.append(j)\n",
        "  y.append(np.min(result[j]))\n",
        "\n",
        "  ax.scatter(x, y)\n",
        "\n",
        "ax.figure.show()"
      ],
      "metadata": {
        "id": "GGJVs1U2v202",
        "outputId": "eeb3314f-8445-436f-d808-3868cf59858c",
        "colab": {
          "base_uri": "https://localhost:8080/",
          "height": 276
        }
      },
      "execution_count": 12,
      "outputs": [
        {
          "output_type": "display_data",
          "data": {
            "text/plain": [
              "<Figure size 432x288 with 1 Axes>"
            ],
            "image/png": "[encoded data removed]"
          },
          "metadata": {
            "needs_background": "light"
          }
        }
      ]
    },
    {
      "cell_type": "code",
      "source": [
        "#solo resultados finales\n",
        "rf = []\n",
        "for k in range(10):\n",
        "  rf.append(np.min(result[k]))\n",
        "\n",
        "print(\"mínimo: {}\".format(np.min(rf)))\n",
        "print(\"máximo: {}\".format(np.max(rf)))\n",
        "print(\"media: {}\".format(np.mean(rf)))\n",
        "print(\"mediana: {}\".format(np.median(rf)))\n",
        "print(\"desviación estándar: {}\".format(np.std(rf)))"
      ],
      "metadata": {
        "id": "ZcZSU5vJv4g4",
        "outputId": "b6e49eb1-afc3-4679-b05d-fe4177c43c34",
        "colab": {
          "base_uri": "https://localhost:8080/"
        }
      },
      "execution_count": 13,
      "outputs": [
        {
          "output_type": "stream",
          "name": "stdout",
          "text": [
            "mínimo: -5.101181776156783e+21\n",
            "máximo: 228.80447920534743\n",
            "media: -1.0461307705464259e+21\n",
            "mediana: -48537.040007116084\n",
            "desviación estándar: 1.8939323147049197e+21\n"
          ]
        }
      ]
    }
  ]
}