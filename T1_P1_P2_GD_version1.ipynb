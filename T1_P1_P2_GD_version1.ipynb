{
  "nbformat": 4,
  "nbformat_minor": 0,
  "metadata": {
    "colab": {
      "provenance": [],
      "authorship_tag": "ABX9TyN6zUNkIaunHfKkGu7WUUDj",
      "include_colab_link": true
    },
    "kernelspec": {
      "name": "python3",
      "display_name": "Python 3"
    },
    "language_info": {
      "name": "python"
    }
  },
  "cells": [
    {
      "cell_type": "markdown",
      "metadata": {
        "id": "view-in-github",
        "colab_type": "text"
      },
      "source": [
        "<a href=\"https://colab.research.google.com/github/DonRoboto/MOO_v1/blob/main/T1_P1_P2_GD_version1.ipynb\" target=\"_parent\"><img src=\"https://colab.research.google.com/assets/colab-badge.svg\" alt=\"Open In Colab\"/></a>"
      ]
    },
    {
      "cell_type": "code",
      "execution_count": 1,
      "metadata": {
        "id": "2Ua0-ttw4CkY"
      },
      "outputs": [],
      "source": [
        "import numpy as np\n",
        "import random\n",
        "from sympy import *\n",
        "import scipy, pylab"
      ]
    },
    {
      "cell_type": "code",
      "source": [
        "class Esfera():    \n",
        "    def __init__(self):\n",
        "        self.x1 = Symbol('x1')\n",
        "        self.x2 = Symbol('x2')\n",
        "        self.fx = self.x1**2 + self.x2**2\n",
        "\n",
        "    def Eval(self, X):\n",
        "        f = self.fx.subs([(self.x1, X[0][0]), (self.x2, X[1][0])]).doit()\n",
        "        return f\n",
        "\n",
        "    def Gradient(self):\n",
        "        d1 = np.array( [[self.fx.diff(self.x1)], [self.fx.diff(self.x2) ]] )\n",
        "        return d1\n",
        "\n",
        "    def Gradient_k(self, K):\n",
        "        d1 = np.array( [[self.fx.diff(self.x1)], [self.fx.diff(self.x2) ]] )\n",
        "        v1 = d1[0][0].subs([(self.x1, K[0][0]), (self.x2, K[1][0])]).doit()\n",
        "        v2 = d1[1][0].subs([(self.x1, K[0][0]), (self.x2, K[1][0])]).doit()      \n",
        "        return np.array( [[v1], [v2 ]] )\n",
        "\n",
        "    def pk(self, X):\n",
        "      direct = -1 * self.Gradient()\n",
        "      v1 = direct[0][0].subs([(self.x1, X[0][0]), (self.x2, X[1][0])]).doit()\n",
        "      v2 = direct[1][0].subs([(self.x1, X[0][0]), (self.x2, X[1][0])]).doit()      \n",
        "      return np.array( [[v1], [v2 ]] )\n",
        "\n"
      ],
      "metadata": {
        "id": "W1hqTVhK4UY4"
      },
      "execution_count": 2,
      "outputs": []
    },
    {
      "cell_type": "code",
      "source": [
        "class Schwefel():    \n",
        "    def __init__(self):\n",
        "        self.x1 = Symbol('x1')\n",
        "        self.x2 = Symbol('x2')\n",
        "        d=2\n",
        "        self.fx = (418.8929 * d) - ( (self.x1 * sin( sqrt(  sqrt(self.x1**2)  ) ) )  + (self.x2 * sin( sqrt(  sqrt(self.x2**2)   ) ))  )\n",
        "\n",
        "    def Eval(self, X):\n",
        "        f = self.fx.subs([(self.x1, X[0][0]), (self.x2, X[1][0])]).doit()\n",
        "        return f\n",
        "\n",
        "    def Gradient(self):\n",
        "        d1 = np.array( [[self.fx.diff(self.x1)], [self.fx.diff(self.x2) ]] )\n",
        "        return d1\n",
        "\n",
        "    def Gradient_k(self, K):\n",
        "        d1 = np.array( [[self.fx.diff(self.x1)], [self.fx.diff(self.x2) ]] )\n",
        "        v1 = d1[0][0].subs([(self.x1, K[0][0]), (self.x2, K[1][0])]).doit()\n",
        "        v2 = d1[1][0].subs([(self.x1, K[0][0]), (self.x2, K[1][0])]).doit()      \n",
        "        return np.array( [[v1], [v2 ]] )\n",
        "\n",
        "    def pk(self, X):\n",
        "      direct = -1 * self.Gradient()\n",
        "      v1 = direct[0][0].subs([(self.x1, X[0][0]), (self.x2, X[1][0])]).doit()\n",
        "      v2 = direct[1][0].subs([(self.x1, X[0][0]), (self.x2, X[1][0])]).doit()      \n",
        "      return np.array( [[v1], [v2 ]] )\n"
      ],
      "metadata": {
        "id": "OaFAgr44K4YT"
      },
      "execution_count": 3,
      "outputs": []
    },
    {
      "cell_type": "code",
      "source": [
        "#Condiciones de Wolfe\n",
        "def StepSize(func, X, alpha, ro, c):\n",
        "  counter=0\n",
        "  pk = func.pk(X)\n",
        "  g = func.Gradient_k(X)\n",
        "  gT = np.transpose(g)\n",
        "\n",
        "  while True:\n",
        "    Xd = X + alpha * pk\n",
        "    fd = func.Eval(Xd)\n",
        "    fi = func.Eval(X) + c *alpha * np.matmul(gT, pk).item()\n",
        "    counter += 1\n",
        "        \n",
        "    if fd<fi or counter>100:\n",
        "      return alpha\n",
        "    else:\n",
        "      alpha = ro * alpha\n",
        "  "
      ],
      "metadata": {
        "id": "wIMFctlJ4UgO"
      },
      "execution_count": 4,
      "outputs": []
    },
    {
      "cell_type": "code",
      "source": [
        "#algoritmo principal\n",
        "\n",
        "rango_max = 5.12\n",
        "rango_min = -5.12\n",
        "\n",
        "#funcion a optimizar\n",
        "myFunc = Esfera()\n",
        "\n",
        "#almacenar las 10 ejecuciones durante 20 iteraciones del algoritmo\n",
        "result = np.zeros((10, 20))\n",
        "\n",
        "for i in range(10):\n",
        "\n",
        "  # X inicial aleatorio\n",
        "  r1 = random.uniform(rango_min, rango_max)\n",
        "  r2 = random.uniform(rango_min, rango_max)\n",
        "  xk = np.array([[r1], [r2]])\n",
        "\n",
        "  #parametros iniciales\n",
        "  alpha = 0.1\n",
        "  ro = 0.1\n",
        "  c = 0.0001\n",
        "\n",
        "  for j in range(20):\n",
        "    pk = myFunc.pk(xk)\n",
        "    alpha = StepSize(myFunc, xk, alpha, ro, c)\n",
        "    xk = xk + (alpha * pk)\n",
        "\n",
        "    ev = myFunc.Eval(xk)\n",
        "    \n",
        "    result[i][j] = ev\n",
        "\n",
        "\n",
        "\n",
        "#graficar resultados\n",
        "ax = pylab.subplot(111)\n",
        "\n",
        "for i in range(10):\n",
        "  x=[]\n",
        "  y=[]\n",
        "  for j in range(20):\n",
        "    x.append(j)\n",
        "    y.append(result[i][j])\n",
        "  ax.scatter(x, y)\n",
        "\n",
        "ax.figure.show()"
      ],
      "metadata": {
        "colab": {
          "base_uri": "https://localhost:8080/",
          "height": 265
        },
        "id": "6EFMxjI9D1T1",
        "outputId": "941c4578-fe40-4d04-fb51-74e18f1a5ba3"
      },
      "execution_count": 5,
      "outputs": [
        {
          "output_type": "display_data",
          "data": {
            "text/plain": [
              "<Figure size 432x288 with 1 Axes>"
            ],
            "image/png": "[encoded data removed]"
          },
          "metadata": {
            "needs_background": "light"
          }
        }
      ]
    },
    {
      "cell_type": "code",
      "source": [
        "#solo resultados finales\n",
        "rf = []\n",
        "for k in range(10):\n",
        "  rf.append(result[k][19])\n",
        "\n",
        "print(\"mínimo: {}\".format(np.min(rf)))\n",
        "print(\"máximo: {}\".format(np.max(rf)))\n",
        "print(\"media: {}\".format(np.mean(rf)))\n",
        "print(\"mediana: {}\".format(np.median(rf)))\n",
        "print(\"desviación estándar: {}\".format(np.std(rf)))\n"
      ],
      "metadata": {
        "id": "j0ygIK9JbRlt",
        "outputId": "0d9a4418-255d-4042-8556-36f353c8f01f",
        "colab": {
          "base_uri": "https://localhost:8080/"
        }
      },
      "execution_count": 6,
      "outputs": [
        {
          "output_type": "stream",
          "name": "stdout",
          "text": [
            "mínimo: 6.150585473520272e-05\n",
            "máximo: 0.004237369108579062\n",
            "media: 0.0020868955411038658\n",
            "mediana: 0.0016617811293192794\n",
            "desviación estándar: 0.0014479466500396583\n"
          ]
        }
      ]
    },
    {
      "cell_type": "code",
      "source": [
        "#algoritmo principal\n",
        "\n",
        "rango_max = 500\n",
        "rango_min = -500\n",
        "\n",
        "#funcion a optimizar\n",
        "myFunc = Schwefel()\n",
        "\n",
        "#almacenar las 10 ejecuciones durante 20 iteraciones del algoritmo\n",
        "result = np.zeros((10, 20))\n",
        "\n",
        "for i in range(10):\n",
        "\n",
        "  # X inicial aleatorio\n",
        "  r1 = random.uniform(rango_min, rango_max)\n",
        "  r2 = random.uniform(rango_min, rango_max)\n",
        "  xk = np.array([[r1], [r2]])\n",
        "\n",
        "  #parametros iniciales\n",
        "  alpha = 0.9\n",
        "  ro = 0.1\n",
        "  c = 0.0001\n",
        "\n",
        "  for j in range(20):\n",
        "    pk = myFunc.pk(xk)\n",
        "    alpha = StepSize(myFunc, xk, alpha, ro, c)\n",
        "    xk = xk + (alpha * pk)\n",
        "\n",
        "    ev = myFunc.Eval(xk)\n",
        "    \n",
        "    result[i][j] = ev\n",
        "\n",
        "\n",
        "\n",
        "#graficar resultados\n",
        "ax = pylab.subplot(111)\n",
        "\n",
        "for i in range(10):\n",
        "  x=[]\n",
        "  y=[]\n",
        "  for j in range(20):\n",
        "    x.append(j)\n",
        "    y.append(result[i][j])\n",
        "  ax.scatter(x, y)\n",
        "\n",
        "ax.figure.show()"
      ],
      "metadata": {
        "colab": {
          "base_uri": "https://localhost:8080/",
          "height": 265
        },
        "id": "blmv_zxEVIfu",
        "outputId": "d5298134-3d9f-450b-e14b-043783d23c66"
      },
      "execution_count": 7,
      "outputs": [
        {
          "output_type": "display_data",
          "data": {
            "text/plain": [
              "<Figure size 432x288 with 1 Axes>"
            ],
            "image/png": "[encoded data removed]"
          },
          "metadata": {
            "needs_background": "light"
          }
        }
      ]
    },
    {
      "cell_type": "code",
      "source": [
        "#solo resultados finales\n",
        "rf = []\n",
        "for k in range(10):\n",
        "  rf.append(result[k][19])\n",
        "\n",
        "print(\"mínimo: {}\".format(np.min(rf)))\n",
        "print(\"máximo: {}\".format(np.max(rf)))\n",
        "print(\"media: {}\".format(np.mean(rf)))\n",
        "print(\"mediana: {}\".format(np.median(rf)))\n",
        "print(\"desviación estándar: {}\".format(np.std(rf)))\n"
      ],
      "metadata": {
        "id": "GK14IOwWdJUB",
        "outputId": "dcb5020d-b9aa-4e15-c9ed-65ef5519093c",
        "colab": {
          "base_uri": "https://localhost:8080/"
        }
      },
      "execution_count": 8,
      "outputs": [
        {
          "output_type": "stream",
          "name": "stdout",
          "text": [
            "mínimo: 19.924247546476636\n",
            "máximo: 434.87887353832934\n",
            "media: 324.60383916452764\n",
            "mediana: 414.68187887437773\n",
            "desviación estándar: 132.9882301526607\n"
          ]
        }
      ]
    }
  ]
}