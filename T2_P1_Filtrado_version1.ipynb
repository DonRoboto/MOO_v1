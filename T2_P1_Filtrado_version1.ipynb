{
  "nbformat": 4,
  "nbformat_minor": 0,
  "metadata": {
    "colab": {
      "provenance": [],
      "authorship_tag": "ABX9TyPvNOwm+KIfcwVOoms4HmzR",
      "include_colab_link": true
    },
    "kernelspec": {
      "name": "python3",
      "display_name": "Python 3"
    },
    "language_info": {
      "name": "python"
    }
  },
  "cells": [
    {
      "cell_type": "markdown",
      "metadata": {
        "id": "view-in-github",
        "colab_type": "text"
      },
      "source": [
        "<a href=\"https://colab.research.google.com/github/DonRoboto/MOO_v1/blob/main/T2_P1_Filtrado_version1.ipynb\" target=\"_parent\"><img src=\"https://colab.research.google.com/assets/colab-badge.svg\" alt=\"Open In Colab\"/></a>"
      ]
    },
    {
      "cell_type": "code",
      "execution_count": 1,
      "metadata": {
        "id": "6DQFJj3uCZqY"
      },
      "outputs": [],
      "source": [
        "import pandas as pd\n",
        "import requests\n",
        "import io\n",
        "import random\n",
        "import math\n",
        "import numpy as np\n",
        "import scipy, pylab\n",
        "import matplotlib.pyplot as plt"
      ]
    },
    {
      "cell_type": "code",
      "source": [
        "#cargar archivos de pesos\n",
        "url = 'https://raw.githubusercontent.com/DonRoboto/MOO_v1/main/knap_250.csv'\n",
        "download = requests.get(url).content\n",
        "df = pd.read_csv(io.StringIO(download.decode('utf-8')))\n",
        "\n",
        "data = df.columns\n",
        "\n",
        "n_1 = int(float(str(data[0])))\n",
        "max_cap_1 = float(str(data[1]))\n",
        "n_2 = int(float(str(data[2])))\n",
        "max_cap_2 = float(str(data[3]))\n",
        "\n",
        "print(n_1)\n",
        "print(max_cap_1)\n",
        "print(n_2)\n",
        "print(max_cap_2)"
      ],
      "metadata": {
        "colab": {
          "base_uri": "https://localhost:8080/"
        },
        "id": "O3fS-e2yCbUF",
        "outputId": "54a81af3-3526-4b63-c5c3-121922bf153c"
      },
      "execution_count": 2,
      "outputs": [
        {
          "output_type": "stream",
          "name": "stdout",
          "text": [
            "250\n",
            "6536.0\n",
            "250\n",
            "6489.0\n"
          ]
        }
      ]
    },
    {
      "cell_type": "code",
      "source": [
        "profit_1=df.iloc[:, 0]\n",
        "weight_1=df.iloc[:, 1]\n",
        "\n",
        "profit_2=df.iloc[:, 2]\n",
        "weight_2=df.iloc[:, 3]"
      ],
      "metadata": {
        "id": "ZU-k5O8qCgG5"
      },
      "execution_count": 3,
      "outputs": []
    },
    {
      "cell_type": "code",
      "source": [
        "#crear pesos\n",
        "pesos_1 = [i/10 for i in range(0, 11)]\n",
        "pesos_2=[]\n",
        "\n",
        "for i in range(len(pesos_1)):\n",
        "  pesos_2.append(round(1-pesos_1[i],2))\n"
      ],
      "metadata": {
        "id": "-GNBfmQACjy6"
      },
      "execution_count": 4,
      "outputs": []
    },
    {
      "cell_type": "code",
      "source": [
        "for i in range(len(pesos_1)):\n",
        "  print(pesos_1[i])\n",
        "  print(pesos_2[i])"
      ],
      "metadata": {
        "colab": {
          "base_uri": "https://localhost:8080/"
        },
        "id": "s8Rii3iHCv4e",
        "outputId": "7c380021-7e44-42a8-bab1-256d51e20e0b"
      },
      "execution_count": 5,
      "outputs": [
        {
          "output_type": "stream",
          "name": "stdout",
          "text": [
            "0.0\n",
            "1.0\n",
            "0.1\n",
            "0.9\n",
            "0.2\n",
            "0.8\n",
            "0.3\n",
            "0.7\n",
            "0.4\n",
            "0.6\n",
            "0.5\n",
            "0.5\n",
            "0.6\n",
            "0.4\n",
            "0.7\n",
            "0.3\n",
            "0.8\n",
            "0.2\n",
            "0.9\n",
            "0.1\n",
            "1.0\n",
            "0.0\n"
          ]
        }
      ]
    },
    {
      "cell_type": "code",
      "source": [
        "class Individuo():\n",
        "        \n",
        "    def __init__(self, items_1='', items_2='', n_items_1='', n_items_2='', max_cap_1='', max_cap_2='', w1='', w2=''):\n",
        "      self.items_1=[]\n",
        "      self.items_2=[]\n",
        "\n",
        "      self.n_items_1=n_items_1\n",
        "      self.max_cap_1=max_cap_1\n",
        "\n",
        "      self.n_items_2=n_items_2\n",
        "      self.max_cap_2=max_cap_2\n",
        "\n",
        "      self.w1=w1\n",
        "      self.w2=w2\n",
        "\n",
        "      if items_1!='':\n",
        "        self.items_1=items_1\n",
        "        self.items_2=items_2\n",
        "      else:\n",
        "        #cromosomas variables\n",
        "        inx_c1 = random.randint(4, self.n_items_1)\n",
        "        for i in range(inx_c1):\n",
        "          pos_1 = random.randint(0, self.n_items_1-1)\n",
        "          \n",
        "          if pos_1 not in self.items_1:\n",
        "            self.items_1.append(pos_1)\n",
        "\n",
        "        inx_c2 = random.randint(4, self.n_items_2)\n",
        "        for i in range(inx_c2):\n",
        "          pos_2 = random.randint(0, self.n_items_2-1)\n",
        "          \n",
        "          if pos_2 not in self.items_2:\n",
        "            self.items_2.append(pos_2)\n",
        "\n",
        "      #no se debe exceder la capacidad (weight) máxima\n",
        "      pes1, pes2 = self.pesos()\n",
        "      while pes1>(self.max_cap_1*self.w1):\n",
        "        self.items_1.pop()\n",
        "        pes1, pes2 = self.pesos()\n",
        "\n",
        "      pes1, pes2 = self.pesos()\n",
        "      while pes2>(self.max_cap_2*self.w2):\n",
        "        self.items_2.pop()\n",
        "        pes1, pes2 = self.pesos()\n",
        "\n",
        "\n",
        "    def pesos(self):      \n",
        "      t_weight_1 = 0      \n",
        "      t_weight_2 = 0\n",
        "\n",
        "      for i in range(len(self.items_1)):                \n",
        "        t_weight_1 = t_weight_1 + weight_1[self.items_1[i]]\n",
        "\n",
        "      for j in range(len(self.items_2)):                \n",
        "        t_weight_2 = t_weight_2 + weight_2[self.items_2[j]]\n",
        "        \n",
        "      return t_weight_1, t_weight_2   \n",
        "\n",
        "\n",
        "    def profits(self):      \n",
        "      t_profit_1 = 0      \n",
        "      t_profit_2 = 0\n",
        "\n",
        "      for i in range(len(self.items_1)):                \n",
        "        t_profit_1 = t_profit_1 + profit_1[self.items_1[i]]\n",
        "\n",
        "      for j in range(len(self.items_2)):                \n",
        "        t_profit_2 = t_profit_2 + profit_2[self.items_2[j]]\n",
        "        \n",
        "      return t_profit_1, t_profit_2  \n",
        "\n",
        "\n",
        "    def fittnes(self):\n",
        "      t_profit_1 = 0\n",
        "      t_weight_1 = 0\n",
        "      \n",
        "      t_profit_2 = 0\n",
        "      t_weight_2 = 0\n",
        "\n",
        "      t_weight_1, t_weight_2 = self.pesos()\n",
        "      \n",
        "      for i in range(len(self.items_1)):        \n",
        "        t_profit_1 = t_profit_1 + profit_1[self.items_1[i]]\n",
        "\n",
        "      for i in range(len(self.items_2)):        \n",
        "        t_profit_2 = t_profit_2 + profit_2[self.items_2[i]]\n",
        "        \n",
        "      if (t_weight_1 + t_weight_2) > (max_cap_1 + max_cap_2):\n",
        "        t_profit = 0\n",
        "      else:\n",
        "        t_profit = (t_profit_1 + t_profit_2)\n",
        "\n",
        "      return t_profit      "
      ],
      "metadata": {
        "id": "RxRCMJkhDSAq"
      },
      "execution_count": 6,
      "outputs": []
    },
    {
      "cell_type": "code",
      "source": [
        "fit = []\n",
        "\n",
        "for i in range(100000):  \n",
        "  rand_1 = random.randint(4, n_1)\n",
        "  rand_2 = random.randint(4, n_2)\n",
        "\n",
        "  peso_1 = round(random.uniform(0,1), 4)\n",
        "  peso_2 = round(1 - peso_1, 4)\n",
        "\n",
        "  ind = Individuo(items_1='',items_2='', n_items_1=rand_1, n_items_2=rand_2, max_cap_1=max_cap_1, max_cap_2=max_cap_2, w1=peso_1, w2=peso_2)\n",
        "\n",
        "  f1, f2 = ind.profits()\n",
        "\n",
        "  fit.append([f1, f2])\n",
        "\n",
        "#print(fit)"
      ],
      "metadata": {
        "id": "SmdLs9S8DZHS"
      },
      "execution_count": 7,
      "outputs": []
    },
    {
      "cell_type": "code",
      "source": [
        "dom = []\n",
        "\n",
        "#fitrado\n",
        "for i in range(len(fit)):\n",
        "  x_1 = fit[i][0]\n",
        "  y_1 = fit[i][1]\n",
        "\n",
        "  ap = False\n",
        "\n",
        "  for j in range(len(fit)):\n",
        "    \n",
        "    if i!= j:\n",
        "      x_2 = fit[j][0]\n",
        "      y_2 = fit[j][1]\n",
        "\n",
        "      if (x_1<x_2) and (y_1<y_2):\n",
        "        ap = False\n",
        "        break\n",
        "      else:\n",
        "        ap=True\n",
        "\n",
        "  if ap:\n",
        "    dom.append(fit[i])\n"
      ],
      "metadata": {
        "id": "unb_UJDjHpzL"
      },
      "execution_count": 8,
      "outputs": []
    },
    {
      "cell_type": "code",
      "source": [
        "\n",
        "graph_1=[]\n",
        "graph_2=[]\n",
        "\n",
        "for r in range(len(fit)):\n",
        "  graph_1.append(fit[r][0])\n",
        "  graph_2.append(fit[r][1])\n",
        "  \n",
        "plt.scatter(graph_1, graph_2)\n",
        "plt.show()\n",
        "\n",
        "print(len(fit))"
      ],
      "metadata": {
        "colab": {
          "base_uri": "https://localhost:8080/",
          "height": 283
        },
        "id": "i6m17ieaJ45y",
        "outputId": "279f8937-9663-4917-ccb0-6bb28abc2257"
      },
      "execution_count": 9,
      "outputs": [
        {
          "output_type": "display_data",
          "data": {
            "text/plain": [
              "<Figure size 432x288 with 1 Axes>"
            ],
            "image/png": "[encoded data removed]"
          },
          "metadata": {
            "needs_background": "light"
          }
        },
        {
          "output_type": "stream",
          "name": "stdout",
          "text": [
            "100000\n"
          ]
        }
      ]
    },
    {
      "cell_type": "code",
      "source": [
        "\n",
        "graph_1=[]\n",
        "graph_2=[]\n",
        "\n",
        "for r in range(len(dom)):\n",
        "  graph_1.append(dom[r][0])\n",
        "  graph_2.append(dom[r][1])\n",
        "  \n",
        "plt.scatter(graph_1, graph_2)\n",
        "plt.show()\n",
        "\n",
        "print(len(dom))"
      ],
      "metadata": {
        "colab": {
          "base_uri": "https://localhost:8080/",
          "height": 283
        },
        "id": "AD9NUnm2GtVn",
        "outputId": "0b0599cf-15ef-4c6e-9d00-7b8b5debee07"
      },
      "execution_count": 10,
      "outputs": [
        {
          "output_type": "display_data",
          "data": {
            "text/plain": [
              "<Figure size 432x288 with 1 Axes>"
            ],
            "image/png": "[encoded data removed]"
          },
          "metadata": {
            "needs_background": "light"
          }
        },
        {
          "output_type": "stream",
          "name": "stdout",
          "text": [
            "53\n"
          ]
        }
      ]
    }
  ]
}