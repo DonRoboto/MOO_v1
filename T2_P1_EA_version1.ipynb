{
  "nbformat": 4,
  "nbformat_minor": 0,
  "metadata": {
    "colab": {
      "provenance": [],
      "authorship_tag": "ABX9TyMTYkVk4vqRUOrGq5QXkBXx",
      "include_colab_link": true
    },
    "kernelspec": {
      "name": "python3",
      "display_name": "Python 3"
    },
    "language_info": {
      "name": "python"
    }
  },
  "cells": [
    {
      "cell_type": "markdown",
      "metadata": {
        "id": "view-in-github",
        "colab_type": "text"
      },
      "source": [
        "<a href=\"https://colab.research.google.com/github/DonRoboto/MOO_v1/blob/main/T2_P1_EA_version1.ipynb\" target=\"_parent\"><img src=\"https://colab.research.google.com/assets/colab-badge.svg\" alt=\"Open In Colab\"/></a>"
      ]
    },
    {
      "cell_type": "code",
      "execution_count": 1,
      "metadata": {
        "id": "4nCX0H5hbTJn"
      },
      "outputs": [],
      "source": [
        "import pandas as pd\n",
        "import requests\n",
        "import io\n",
        "import random\n",
        "import math\n",
        "import numpy as np\n",
        "import scipy, pylab\n",
        "import matplotlib.pyplot as plt"
      ]
    },
    {
      "cell_type": "code",
      "source": [
        "#cargar archivos de pesos\n",
        "url = 'https://raw.githubusercontent.com/DonRoboto/MOO_v1/main/knap_250.csv'\n",
        "download = requests.get(url).content\n",
        "df = pd.read_csv(io.StringIO(download.decode('utf-8')))\n",
        "\n",
        "data = df.columns\n",
        "\n",
        "n_1 = int(float(str(data[0])))\n",
        "max_cap_1 = float(str(data[1]))\n",
        "n_2 = int(float(str(data[2])))\n",
        "max_cap_2 = float(str(data[3]))\n",
        "\n",
        "print(n_1)\n",
        "print(max_cap_1)\n",
        "print(n_2)\n",
        "print(max_cap_2)"
      ],
      "metadata": {
        "colab": {
          "base_uri": "https://localhost:8080/"
        },
        "id": "pVepkCKTbW5J",
        "outputId": "157b7d6b-b0d4-4657-8d87-a7faa156d229"
      },
      "execution_count": 2,
      "outputs": [
        {
          "output_type": "stream",
          "name": "stdout",
          "text": [
            "250\n",
            "6536.0\n",
            "250\n",
            "6489.0\n"
          ]
        }
      ]
    },
    {
      "cell_type": "code",
      "source": [
        "\n",
        "profit_1=df.iloc[:, 0]\n",
        "weight_1=df.iloc[:, 1]\n",
        "\n",
        "profit_2=df.iloc[:, 2]\n",
        "weight_2=df.iloc[:, 3]\n"
      ],
      "metadata": {
        "id": "H5iLR7H1bZem"
      },
      "execution_count": 3,
      "outputs": []
    },
    {
      "cell_type": "code",
      "source": [
        "class Individuo():\n",
        "        \n",
        "    def __init__(self, items_1='', items_2='', n_items_1='', n_items_2='', max_cap_1='', max_cap_2='', w1='', w2=''):\n",
        "      self.items_1=[]\n",
        "      self.items_2=[]\n",
        "\n",
        "      self.n_items_1=n_items_1\n",
        "      self.max_cap_1=max_cap_1\n",
        "\n",
        "      self.n_items_2=n_items_2\n",
        "      self.max_cap_2=max_cap_2\n",
        "\n",
        "      self.w1=w1\n",
        "      self.w2=w2\n",
        "\n",
        "      if items_1!='':\n",
        "        self.items_1=items_1\n",
        "        self.items_2=items_2\n",
        "      else:\n",
        "        #cromosomas variables\n",
        "        inx_c1 = random.randint(4, self.n_items_1)\n",
        "        for i in range(inx_c1):\n",
        "          pos_1 = random.randint(0, self.n_items_1-1)\n",
        "          \n",
        "          if pos_1 not in self.items_1:\n",
        "            self.items_1.append(pos_1)\n",
        "\n",
        "        inx_c2 = random.randint(4, self.n_items_2)\n",
        "        for i in range(inx_c2):\n",
        "          pos_2 = random.randint(0, self.n_items_2-1)\n",
        "          \n",
        "          if pos_2 not in self.items_2:\n",
        "            self.items_2.append(pos_2)\n",
        "\n",
        "      #no se debe exceder la capacidad (weight) máxima\n",
        "      pes1, pes2 = self.pesos()\n",
        "      while pes1>(self.max_cap_1*self.w1):\n",
        "        self.items_1.pop()\n",
        "        pes1, pes2 = self.pesos()\n",
        "\n",
        "      pes1, pes2 = self.pesos()\n",
        "      while pes2>(self.max_cap_2*self.w2):\n",
        "        self.items_2.pop()\n",
        "        pes1, pes2 = self.pesos()\n",
        "\n",
        "\n",
        "    def pesos(self):      \n",
        "      t_weight_1 = 0      \n",
        "      t_weight_2 = 0\n",
        "\n",
        "      for i in range(len(self.items_1)):                \n",
        "        t_weight_1 = t_weight_1 + weight_1[self.items_1[i]]\n",
        "\n",
        "      for j in range(len(self.items_2)):                \n",
        "        t_weight_2 = t_weight_2 + weight_2[self.items_2[j]]\n",
        "        \n",
        "      return t_weight_1, t_weight_2   \n",
        "\n",
        "\n",
        "    def profits(self):      \n",
        "      t_profit_1 = 0      \n",
        "      t_profit_2 = 0\n",
        "\n",
        "      for i in range(len(self.items_1)):                \n",
        "        t_profit_1 = t_profit_1 + profit_1[self.items_1[i]]\n",
        "\n",
        "      for j in range(len(self.items_2)):                \n",
        "        t_profit_2 = t_profit_2 + profit_2[self.items_2[j]]\n",
        "        \n",
        "      return t_profit_1, t_profit_2  \n",
        "\n",
        "\n",
        "    def fittnes(self):\n",
        "      t_profit_1 = 0\n",
        "      t_weight_1 = 0\n",
        "      \n",
        "      t_profit_2 = 0\n",
        "      t_weight_2 = 0\n",
        "\n",
        "      t_weight_1, t_weight_2 = self.pesos()\n",
        "      \n",
        "      for i in range(len(self.items_1)):        \n",
        "        t_profit_1 = t_profit_1 + profit_1[self.items_1[i]]\n",
        "\n",
        "      for i in range(len(self.items_2)):        \n",
        "        t_profit_2 = t_profit_2 + profit_2[self.items_2[i]]\n",
        "        \n",
        "      if (t_weight_1 + t_weight_2) > (max_cap_1 + max_cap_2):\n",
        "        t_profit = 0\n",
        "      else:\n",
        "        t_profit = (t_profit_1 + t_profit_2)\n",
        "\n",
        "      return t_profit      "
      ],
      "metadata": {
        "id": "oJElqzf7cJ71"
      },
      "execution_count": 4,
      "outputs": []
    },
    {
      "cell_type": "code",
      "source": [
        "class Poblacion():\n",
        "\n",
        "  def __init__(self, n='', n_items_1='', n_items_2='', max_cap_1='', max_cap_2='', w1='', w2=''):\n",
        "    self.p = []\n",
        "    self.n_items_1=n_items_1\n",
        "    self.n_items_2=n_items_2\n",
        "    self.max_cap_1=max_cap_1\n",
        "    self.max_cap_2=max_cap_2\n",
        "    self.w1=w1\n",
        "    self.w2=w2\n",
        "    \n",
        "    if n!='':\n",
        "      for i in range(n):\n",
        "        individuo = Individuo(items_1='', n_items_1=self.n_items_1, n_items_2=self.n_items_2, max_cap_1=self.max_cap_1, max_cap_2=self.max_cap_2, w1=self.w1, w2=self.w2)\n",
        "        self.p.append(individuo)\n",
        "\n",
        "  def cruza(self, ind_1, ind_2):\n",
        "    len_1_1 = math.floor(len(ind_1.items_1)/2)\n",
        "    len_1_2 = math.floor(len(ind_2.items_1)/2)\n",
        "\n",
        "    len_2_1 = math.floor(len(ind_1.items_2)/2)\n",
        "    len_2_2 = math.floor(len(ind_2.items_2)/2)\n",
        "\n",
        "    crom_1_1 = []\n",
        "    crom_1_2 = []\n",
        "\n",
        "    crom_2_1 = []\n",
        "    crom_2_2 = []\n",
        "\n",
        "    crom_1_1 = ind_1.items_1[:len_1_1]\n",
        "    crom_1_2 = ind_2.items_1[:len_1_2]\n",
        "\n",
        "    crom_2_1 = ind_1.items_2[:len_2_1]\n",
        "    crom_2_2 = ind_2.items_2[:len_2_2]\n",
        "\n",
        "    for c1_1 in ind_2.items_1[len_1_2:]:\n",
        "      if c1_1 not in crom_1_1:\n",
        "        crom_1_1.append(c1_1)\n",
        "\n",
        "    for c1_2 in ind_1.items_1[len_1_1:]:\n",
        "      if c1_2 not in crom_1_2:\n",
        "        crom_1_2.append(c1_2)\n",
        "\n",
        "    for c2_1 in ind_2.items_2[len_2_2:]:\n",
        "      if c2_1 not in crom_2_1:\n",
        "        crom_2_1.append(c2_1)\n",
        "\n",
        "    for c2_2 in ind_1.items_2[len_2_1:]:\n",
        "      if c2_2 not in crom_2_2:\n",
        "        crom_2_2.append(c2_2)\n",
        "\n",
        "\n",
        "    h1 = Individuo(items_1=crom_1_1, items_2=crom_1_2, n_items_1=self.n_items_1, n_items_2=self.n_items_2, max_cap_1=self.max_cap_1, max_cap_2=self.max_cap_2, w1=self.w1, w2=self.w2)       \n",
        "    h2 = Individuo(items_1=crom_2_1, items_2=crom_2_2, n_items_1=self.n_items_1, n_items_2=self.n_items_2, max_cap_1=self.max_cap_1, max_cap_2=self.max_cap_2, w1=self.w1, w2=self.w2) \n",
        "\n",
        "    return h1, h2\n",
        "\n",
        "\n",
        "  def mutacion(self, ind_1):\n",
        "    len_1 = len(ind_1.items_1)\n",
        "    index_1 = random.randint(0, len_1)\n",
        "    pos_1 = random.randint(0, self.n_items_1-1)\n",
        "    ind_1.items_1[index_1-1]=pos_1\n",
        "    ind_1.items_1 = list(dict.fromkeys(ind_1.items_1))\n",
        "\n",
        "    len_2 = len(ind_1.items_2)\n",
        "    index_2 = random.randint(0, len_2)\n",
        "    pos_2 = random.randint(0, self.n_items_2-1)\n",
        "    ind_1.items_2[index_2-1]=pos_2\n",
        "    ind_1.items_2 = list(dict.fromkeys(ind_1.items_2))\n",
        "\n",
        "\n",
        "    pes1, pes2 = ind_1.pesos()\n",
        "    while pes1>self.max_cap_1:\n",
        "        ind_1.items_1.pop()\n",
        "        pes1, pes2 = ind_1.pesos()\n",
        "    \n",
        "    pes1, pes2 = ind_1.pesos()\n",
        "    while pes2>self.max_cap_2:\n",
        "        ind_1.items_2.pop()\n",
        "        pes1, pes2 = ind_1.pesos()\n"
      ],
      "metadata": {
        "id": "CMVlHSLTcKwN"
      },
      "execution_count": 5,
      "outputs": []
    },
    {
      "cell_type": "code",
      "source": [
        "#crear pesos\n",
        "pesos_1 = [i/100 for i in range(0, 101)]\n",
        "pesos_2=[]\n",
        "\n",
        "for i in range(len(pesos_1)):\n",
        "  pesos_2.append(round(1-pesos_1[i],2))\n"
      ],
      "metadata": {
        "id": "eOE58RJ2vHwF"
      },
      "execution_count": 6,
      "outputs": []
    },
    {
      "cell_type": "code",
      "source": [
        "#ejecutar 10 veces\n",
        "result = np.zeros((101, 12))\n",
        "frente_1 = np.zeros((101, 12))\n",
        "frente_2 = np.zeros((101, 12))\n",
        "file_res = []\n",
        "\n",
        "for n in range(101):\n",
        "  w1 = pesos_1[n]\n",
        "  w2 = pesos_2[n]\n",
        "  #codigo principal\n",
        "  pob_i = Poblacion(n=12, n_items_1=n_1, n_items_2=n_2, max_cap_1=max_cap_1, max_cap_2=max_cap_2, w1=w1, w2=w2)\n",
        "\n",
        "  #por cuantas generaciones\n",
        "  for g in range(20):\n",
        "    pob_n   = Poblacion(n_items_1=n_1, n_items_2=n_2, max_cap_1=max_cap_1, max_cap_2=max_cap_2, w1=w1, w2=w2)\n",
        "    pob_aux = Poblacion(n_items_1=n_1, n_items_2=n_2, max_cap_1=max_cap_1, max_cap_2=max_cap_2, w1=w1, w2=w2)\n",
        "\n",
        "    #seleccionar los que se van a reproducir por torneo binario\n",
        "    for i in range(0, len(pob_i.p), 2):\n",
        "      if pob_i.p[i].fittnes()>=pob_i.p[i+1].fittnes():\n",
        "        pob_aux.p.append(pob_i.p[i])\n",
        "      else:\n",
        "        pob_aux.p.append(pob_i.p[i+1]) \n",
        "\n",
        "      #quenes serán padres\n",
        "      pad_1 = Individuo(items_1='',items_2='', n_items_1=n_1, n_items_2=n_2, max_cap_1=max_cap_1, max_cap_2=max_cap_2, w1=w1, w2=w2)\n",
        "      pad_2 = Individuo(items_1='',items_2='', n_items_1=n_1, n_items_2=n_2, max_cap_1=max_cap_1, max_cap_2=max_cap_2, w1=w1, w2=w2)\n",
        "\n",
        "    for j in range(0, len(pob_aux.p), 2):\n",
        "      pad_1 = pob_aux.p[j]\n",
        "      pad_2 = pob_aux.p[j+1]\n",
        "\n",
        "      pob_n.p.append(pad_1)\n",
        "      pob_n.p.append(pad_2)\n",
        "\n",
        "      #cruza\n",
        "      h_1, h_2 = pob_n.cruza(pad_1, pad_2)\n",
        "\n",
        "      #mutacion\n",
        "      #if random.uniform(0, 1)<0.1:\n",
        "      #  pob_n.mutacion(h_1)\n",
        "      #if random.uniform(0, 1)<0.1:\n",
        "      #  pob_n.mutacion(h_2)\n",
        "\n",
        "      pob_n.p.append(h_1)\n",
        "      pob_n.p.append(h_2)\n",
        "\n",
        "  \n",
        "  j=0  \n",
        "  for k in pob_n.p:\n",
        "    result[n][j] = k.fittnes()\n",
        "    j += 1\n",
        "\n",
        "  j=0  \n",
        "  for k in pob_n.p:\n",
        "    f1, f2 =  k.profits()\n",
        "    frente_1[n][j] = f1\n",
        "    j += 1\n",
        " \n",
        "  j=0  \n",
        "  for k in pob_n.p:\n",
        "    f1, f2 =  k.profits()\n",
        "    frente_2[n][j] = f2\n",
        "    j += 1\n",
        "\n",
        "#print(frente_1)\n",
        "#print(frente_2)"
      ],
      "metadata": {
        "id": "3F7PjGqwcONM"
      },
      "execution_count": 7,
      "outputs": []
    },
    {
      "cell_type": "code",
      "source": [
        "frente_1"
      ],
      "metadata": {
        "id": "0xdvqizRbV5H",
        "outputId": "b4aebd70-192e-476a-8c23-2fd1f5b2a24c",
        "colab": {
          "base_uri": "https://localhost:8080/"
        }
      },
      "execution_count": 16,
      "outputs": [
        {
          "output_type": "execute_result",
          "data": {
            "text/plain": [
              "array([[   0.,    0.,    0., ...,    0.,    0.,    0.],\n",
              "       [  41.,    0.,    0., ...,    0.,    0.,    0.],\n",
              "       [  67.,  104.,   21., ...,   66.,   89.,  148.],\n",
              "       ...,\n",
              "       [6447., 4047., 5115., ..., 5970., 5062.,   34.],\n",
              "       [6715., 5237., 5483., ..., 2826., 4339.,    0.],\n",
              "       [6554., 6176., 5327., ..., 6664., 4980.,    0.]])"
            ]
          },
          "metadata": {},
          "execution_count": 16
        }
      ]
    },
    {
      "cell_type": "code",
      "source": [
        "\n",
        "df = pd.DataFrame(frente_1)\n",
        "df.to_csv('P1_EA_f1.csv')\n",
        "\n",
        "\n",
        "\n",
        "df = pd.DataFrame(frente_2)\n",
        "df.to_csv('P1_EA_f2.csv')\n"
      ],
      "metadata": {
        "id": "JL_ynEN1ayYI"
      },
      "execution_count": 17,
      "outputs": []
    },
    {
      "cell_type": "code",
      "source": [
        "graph_1=[]\n",
        "graph_2=[]\n",
        "\n",
        "for k in range(101):\n",
        "  graph_1.append(np.nanmax(frente_1[k]))\n",
        "\n",
        "for k in range(101):\n",
        "  graph_2.append(np.nanmax(frente_2[k]))\n"
      ],
      "metadata": {
        "id": "THJePnOuCf2X"
      },
      "execution_count": 8,
      "outputs": []
    },
    {
      "cell_type": "code",
      "source": [
        "#print(graph_1)\n",
        "#print(graph_2)\n",
        "\n",
        "plt.scatter(graph_1, graph_2)\n",
        "plt.show()"
      ],
      "metadata": {
        "colab": {
          "base_uri": "https://localhost:8080/",
          "height": 265
        },
        "id": "uLc0Z3liu9Bo",
        "outputId": "09ce5046-3620-44bd-bb12-9532bd377ae7"
      },
      "execution_count": 9,
      "outputs": [
        {
          "output_type": "display_data",
          "data": {
            "text/plain": [
              "<Figure size 432x288 with 1 Axes>"
            ],
            "image/png": "[encoded data removed]"
          },
          "metadata": {
            "needs_background": "light"
          }
        }
      ]
    },
    {
      "cell_type": "code",
      "source": [
        "graph_2"
      ],
      "metadata": {
        "id": "JxBpG3YJUfWp",
        "outputId": "244cb466-056f-49f8-88dc-0e8bd08b4ab3",
        "colab": {
          "base_uri": "https://localhost:8080/"
        }
      },
      "execution_count": 10,
      "outputs": [
        {
          "output_type": "execute_result",
          "data": {
            "text/plain": [
              "[6748.0,\n",
              " 6638.0,\n",
              " 6949.0,\n",
              " 6704.0,\n",
              " 6430.0,\n",
              " 6706.0,\n",
              " 5862.0,\n",
              " 6861.0,\n",
              " 6344.0,\n",
              " 5637.0,\n",
              " 6257.0,\n",
              " 6362.0,\n",
              " 6174.0,\n",
              " 6234.0,\n",
              " 6072.0,\n",
              " 5710.0,\n",
              " 6551.0,\n",
              " 5539.0,\n",
              " 5559.0,\n",
              " 5556.0,\n",
              " 5339.0,\n",
              " 5263.0,\n",
              " 5152.0,\n",
              " 5353.0,\n",
              " 5056.0,\n",
              " 4907.0,\n",
              " 4732.0,\n",
              " 4949.0,\n",
              " 4794.0,\n",
              " 4822.0,\n",
              " 5013.0,\n",
              " 4575.0,\n",
              " 5013.0,\n",
              " 4304.0,\n",
              " 4718.0,\n",
              " 4558.0,\n",
              " 4192.0,\n",
              " 4331.0,\n",
              " 4171.0,\n",
              " 4408.0,\n",
              " 4284.0,\n",
              " 4070.0,\n",
              " 4355.0,\n",
              " 4478.0,\n",
              " 4314.0,\n",
              " 3660.0,\n",
              " 3664.0,\n",
              " 3669.0,\n",
              " 4051.0,\n",
              " 3581.0,\n",
              " 3505.0,\n",
              " 3682.0,\n",
              " 3651.0,\n",
              " 3389.0,\n",
              " 3484.0,\n",
              " 3335.0,\n",
              " 3143.0,\n",
              " 2991.0,\n",
              " 3314.0,\n",
              " 2976.0,\n",
              " 3029.0,\n",
              " 2841.0,\n",
              " 3039.0,\n",
              " 2759.0,\n",
              " 2916.0,\n",
              " 2590.0,\n",
              " 2443.0,\n",
              " 2742.0,\n",
              " 2906.0,\n",
              " 2404.0,\n",
              " 2205.0,\n",
              " 2381.0,\n",
              " 2181.0,\n",
              " 2150.0,\n",
              " 1934.0,\n",
              " 2086.0,\n",
              " 1670.0,\n",
              " 1563.0,\n",
              " 2214.0,\n",
              " 1723.0,\n",
              " 1434.0,\n",
              " 1472.0,\n",
              " 1185.0,\n",
              " 1436.0,\n",
              " 1390.0,\n",
              " 1369.0,\n",
              " 966.0,\n",
              " 1219.0,\n",
              " 1121.0,\n",
              " 909.0,\n",
              " 862.0,\n",
              " 918.0,\n",
              " 671.0,\n",
              " 682.0,\n",
              " 484.0,\n",
              " 520.0,\n",
              " 503.0,\n",
              " 225.0,\n",
              " 187.0,\n",
              " 132.0,\n",
              " 0.0]"
            ]
          },
          "metadata": {},
          "execution_count": 10
        }
      ]
    }
  ]
}