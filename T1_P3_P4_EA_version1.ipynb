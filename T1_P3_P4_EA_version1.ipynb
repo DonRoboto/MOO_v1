{
  "nbformat": 4,
  "nbformat_minor": 0,
  "metadata": {
    "colab": {
      "provenance": [],
      "authorship_tag": "ABX9TyM3G5VJ8rD+t4seXvLlTEun",
      "include_colab_link": true
    },
    "kernelspec": {
      "name": "python3",
      "display_name": "Python 3"
    },
    "language_info": {
      "name": "python"
    }
  },
  "cells": [
    {
      "cell_type": "markdown",
      "metadata": {
        "id": "view-in-github",
        "colab_type": "text"
      },
      "source": [
        "<a href=\"https://colab.research.google.com/github/DonRoboto/MOO_v1/blob/main/T1_P3_P4_EA_version1.ipynb\" target=\"_parent\"><img src=\"https://colab.research.google.com/assets/colab-badge.svg\" alt=\"Open In Colab\"/></a>"
      ]
    },
    {
      "cell_type": "code",
      "execution_count": 1,
      "metadata": {
        "id": "6syr44nto9Vt"
      },
      "outputs": [],
      "source": [
        "import pandas as pd\n",
        "import requests\n",
        "import io\n",
        "import random\n",
        "import math\n",
        "import numpy as np\n",
        "import scipy, pylab"
      ]
    },
    {
      "cell_type": "code",
      "source": [
        "#cargar archivos de pesos\n",
        "url_50 = 'https://raw.githubusercontent.com/DonRoboto/MOO_v1/main/knap_50.csv'\n",
        "download_50 = requests.get(url_50).content\n",
        "df_50 = pd.read_csv(io.StringIO(download_50.decode('utf-8')))\n",
        "\n",
        "#cargar archivos de pesos\n",
        "url_10000 = 'https://raw.githubusercontent.com/DonRoboto/MOO_v1/main/knap_10000.csv'\n",
        "download_10000 = requests.get(url_10000).content\n",
        "df_10000 = pd.read_csv(io.StringIO(download_10000.decode('utf-8')))"
      ],
      "metadata": {
        "id": "PDjDQcVXrbYI"
      },
      "execution_count": 2,
      "outputs": []
    },
    {
      "cell_type": "code",
      "source": [
        "data_top_50 = df_50.columns\n",
        "\n",
        "n_50 = int(data_top_50[0])\n",
        "max_cap_50 = int(data_top_50[1])\n",
        "\n",
        "profit_50=df_50.iloc[:, 0]\n",
        "weight_50=df_50.iloc[:, 1]\n",
        "\n",
        "print(n_50)\n",
        "print(max_cap_50)\n",
        "\n",
        "\n",
        "data_top_10000 = df_10000.columns\n",
        "\n",
        "n_10000 = int(data_top_10000[0])\n",
        "max_cap_10000 = int(data_top_10000[1])\n",
        "\n",
        "profit_10000=df_10000.iloc[:, 0]\n",
        "weight_10000=df_10000.iloc[:, 1]\n",
        "print(n_10000)\n",
        "print(max_cap_10000)"
      ],
      "metadata": {
        "colab": {
          "base_uri": "https://localhost:8080/"
        },
        "id": "E4NRzazWrksT",
        "outputId": "4a3dd9d3-1faf-41a1-f927-2d56960ef9ea"
      },
      "execution_count": 3,
      "outputs": [
        {
          "output_type": "stream",
          "name": "stdout",
          "text": [
            "50\n",
            "341045\n",
            "10000\n",
            "1000000\n"
          ]
        }
      ]
    },
    {
      "cell_type": "code",
      "source": [
        "class Individuo():\n",
        "        \n",
        "    def __init__(self, items='', n_items='', max_cap=''):\n",
        "      self.items=[]\n",
        "      self.n_items=n_items\n",
        "      self.max_cap=max_cap\n",
        "\n",
        "      if items!='':\n",
        "        self.items=items             \n",
        "      else:\n",
        "        #cromosomas variables\n",
        "        c = random.randint(4, self.n_items)\n",
        "        for i in range(c):\n",
        "          pos = random.randint(0, self.n_items-1)\n",
        "          \n",
        "          if pos not in self.items:\n",
        "            self.items.append(pos)\n",
        "\n",
        "\n",
        "      while self.fittnes()>self.max_cap:\n",
        "        self.items.pop()\n",
        "\n",
        "\n",
        "    def fittnes(self):\n",
        "      f = 0\n",
        "      for i in range(len(self.items)):\n",
        "        if self.n_items==50:\n",
        "          f = f + weight_50[self.items[i]]\n",
        "        if self.n_items==10000:\n",
        "          f = f + weight_10000[self.items[i]]\n",
        "\n",
        "      return f      "
      ],
      "metadata": {
        "id": "sa95KMM1r2wK"
      },
      "execution_count": 4,
      "outputs": []
    },
    {
      "cell_type": "code",
      "source": [
        "class Poblacion():\n",
        "\n",
        "  def __init__(self, n='', n_items='', max_cap=''):\n",
        "    self.p = []\n",
        "    self.n_items=n_items\n",
        "    self.max_cap=max_cap\n",
        "    \n",
        "    if n!='':\n",
        "      for i in range(n):\n",
        "        individuo = Individuo(items='', n_items=self.n_items, max_cap=self.max_cap)\n",
        "        self.p.append(individuo)\n",
        "\n",
        "  def cruza(self, ind_1, ind_2):\n",
        "    len_1 = math.floor(len(ind_1.items)/2)\n",
        "    len_2 = math.floor(len(ind_2.items)/2)\n",
        "\n",
        "    crom_1 = []\n",
        "    crom_2 = []\n",
        "\n",
        "    crom_1 = ind_1.items[:len_1]\n",
        "    crom_2 = ind_2.items[:len_2]\n",
        "\n",
        "    for c1 in ind_2.items[len_2:]:\n",
        "      if c1 not in crom_1:\n",
        "        crom_1.append(c1)\n",
        "\n",
        "\n",
        "    for c2 in ind_1.items[len_1:]:\n",
        "      if c2 not in crom_2:\n",
        "        crom_2.append(c2)\n",
        "\n",
        "    h1 = Individuo(items=crom_1, n_items=self.n_items, max_cap=self.max_cap)       \n",
        "    h2 = Individuo(items=crom_2, n_items=self.n_items, max_cap=self.max_cap)       \n",
        "\n",
        "    return h1, h2\n",
        "\n",
        "\n",
        "  def mutacion(self, ind_1):\n",
        "    len_1 = len(ind_1.items)\n",
        "\n",
        "    index = random.randint(0, len_1)\n",
        "    pos = random.randint(0, self.n_items-1)\n",
        "\n",
        "    ind_1.items[index-1]=pos\n",
        "    ind_1.items = list(dict.fromkeys(ind_1.items))\n",
        "\n",
        "    while ind_1.fittnes()>self.max_cap:\n",
        "        ind_1.items.pop()\n",
        "\n",
        "\n"
      ],
      "metadata": {
        "id": "0eQ9Z8H6wT93"
      },
      "execution_count": 5,
      "outputs": []
    },
    {
      "cell_type": "code",
      "source": [],
      "metadata": {
        "id": "OsAtwQblxpoM"
      },
      "execution_count": 5,
      "outputs": []
    },
    {
      "cell_type": "code",
      "source": [
        "#ejecutar 10 veces\n",
        "result = np.zeros((10, 24))\n",
        "\n",
        "for n in range(10):\n",
        "  #codigo principal\n",
        "  pob_i = Poblacion(n=24, n_items=n_50, max_cap=max_cap_50)\n",
        "\n",
        "  for g in range(100):\n",
        "    pob_n = Poblacion(n_items=n_50, max_cap=max_cap_50)\n",
        "    pob_aux = Poblacion(n_items=n_50, max_cap=max_cap_50)\n",
        "\n",
        "    #seleccionar los que se van a reproducir por torneo binario\n",
        "    for i in range(0, len(pob_i.p), 2):\n",
        "      if pob_i.p[i].fittnes()>=pob_i.p[i+1].fittnes():\n",
        "        pob_aux.p.append(pob_i.p[i])\n",
        "      else:\n",
        "        pob_aux.p.append(pob_i.p[i+1]) \n",
        "\n",
        "      #quenes serán padres\n",
        "      pad_1 = Individuo(items='', n_items=n_50, max_cap=max_cap_50)\n",
        "      pad_2 = Individuo(items='', n_items=n_50, max_cap=max_cap_50)\n",
        "\n",
        "    for j in range(0, len(pob_aux.p), 2):\n",
        "      pad_1 = pob_aux.p[j]\n",
        "      pad_2 = pob_aux.p[j+1]\n",
        "\n",
        "      pob_n.p.append(pad_1)\n",
        "      pob_n.p.append(pad_2)\n",
        "\n",
        "      #cruza\n",
        "      h_1, h_2 = pob_n.cruza(pad_1, pad_2)\n",
        "\n",
        "      #mutacion\n",
        "      if random.uniform(0, 1)<0.1:\n",
        "        pob_n.mutacion(h_1)\n",
        "\n",
        "      if random.uniform(0, 1)<0.1:\n",
        "        pob_n.mutacion(h_2)\n",
        "\n",
        "      pob_n.p.append(h_1)\n",
        "      pob_n.p.append(h_2)\n",
        "\n",
        "  j=0  \n",
        "  for k in pob_n.p:\n",
        "    result[n][j] = k.fittnes()\n",
        "    j += 1\n",
        " "
      ],
      "metadata": {
        "id": "tGaORMthmC5T"
      },
      "execution_count": 6,
      "outputs": []
    },
    {
      "cell_type": "code",
      "source": [
        "#graficar resultados\n",
        "ax = pylab.subplot(111)\n",
        "\n",
        "x=[]\n",
        "y=[]\n",
        "for j in range(10):\n",
        "  x.append(j)\n",
        "  y.append(np.max(result[j]))\n",
        "\n",
        "  ax.scatter(x, y)\n",
        "\n",
        "ax.figure.show()"
      ],
      "metadata": {
        "colab": {
          "base_uri": "https://localhost:8080/",
          "height": 265
        },
        "id": "oKeNy3Mlm157",
        "outputId": "8f4a8838-f15c-4bef-9ff4-ef13b0ebecc2"
      },
      "execution_count": 7,
      "outputs": [
        {
          "output_type": "display_data",
          "data": {
            "text/plain": [
              "<Figure size 432x288 with 1 Axes>"
            ],
            "image/png": "[encoded data removed]"
          },
          "metadata": {
            "needs_background": "light"
          }
        }
      ]
    },
    {
      "cell_type": "code",
      "source": [
        "#solo resultados finales\n",
        "rf = []\n",
        "for k in range(10):\n",
        "  rf.append(np.max(result[k]))\n",
        "\n",
        "print(\"mínimo: {}\".format(np.nanmin(rf)))\n",
        "print(\"máximo: {}\".format(np.nanmax(rf)))\n",
        "print(\"media: {}\".format(np.nanmean(rf)))\n",
        "print(\"mediana: {}\".format(np.nanmedian(rf)))\n",
        "print(\"desviación estándar: {}\".format(np.nanstd(rf)))"
      ],
      "metadata": {
        "colab": {
          "base_uri": "https://localhost:8080/"
        },
        "id": "izYAiYpwo4z7",
        "outputId": "e5d40386-50c5-41b5-af60-38d93b61df42"
      },
      "execution_count": 8,
      "outputs": [
        {
          "output_type": "stream",
          "name": "stdout",
          "text": [
            "mínimo: 338562.0\n",
            "máximo: 340990.0\n",
            "media: 340100.6\n",
            "mediana: 340262.0\n",
            "desviación estándar: 668.0018263448087\n"
          ]
        }
      ]
    },
    {
      "cell_type": "code",
      "source": [],
      "metadata": {
        "id": "p7AAuz2M0rdJ"
      },
      "execution_count": 8,
      "outputs": []
    },
    {
      "cell_type": "code",
      "source": [
        "#ejecutar 10 veces\n",
        "result = np.zeros((10, 24))\n",
        "\n",
        "for n in range(10):\n",
        "  #codigo principal\n",
        "  pob_i = Poblacion(n=24, n_items=n_10000, max_cap=max_cap_10000)\n",
        "\n",
        "  for g in range(10):\n",
        "    pob_n = Poblacion(n_items=n_10000, max_cap=max_cap_10000)\n",
        "    pob_aux = Poblacion(n_items=n_10000, max_cap=max_cap_10000)\n",
        "\n",
        "    #seleccionar los que se van a reproducir por torneo binario\n",
        "    for i in range(0, len(pob_i.p), 2):\n",
        "      if pob_i.p[i].fittnes()>=pob_i.p[i+1].fittnes():\n",
        "        pob_aux.p.append(pob_i.p[i])\n",
        "      else:\n",
        "        pob_aux.p.append(pob_i.p[i+1]) \n",
        "\n",
        "      #quenes serán padres\n",
        "      pad_1 = Individuo(items='', n_items=n_10000, max_cap=max_cap_10000)\n",
        "      pad_2 = Individuo(items='', n_items=n_10000, max_cap=max_cap_10000)\n",
        "\n",
        "    for j in range(0, len(pob_aux.p), 2):\n",
        "      pad_1 = pob_aux.p[j]\n",
        "      pad_2 = pob_aux.p[j+1]\n",
        "\n",
        "      pob_n.p.append(pad_1)\n",
        "      pob_n.p.append(pad_2)\n",
        "\n",
        "      #cruza\n",
        "      h_1, h_2 = pob_n.cruza(pad_1, pad_2)\n",
        "\n",
        "      #mutacion\n",
        "      if random.uniform(0, 1)<0.1:\n",
        "        pob_n.mutacion(h_1)\n",
        "\n",
        "      if random.uniform(0, 1)<0.1:\n",
        "        pob_n.mutacion(h_2)\n",
        "\n",
        "      pob_n.p.append(h_1)\n",
        "      pob_n.p.append(h_2)\n",
        "\n",
        "  j=0  \n",
        "  for k in pob_n.p:\n",
        "    result[n][j] = k.fittnes()\n",
        "    j += 1\n",
        " "
      ],
      "metadata": {
        "id": "JnpaQgAq0rk-"
      },
      "execution_count": null,
      "outputs": []
    },
    {
      "cell_type": "code",
      "source": [
        "#graficar resultados\n",
        "ax = pylab.subplot(111)\n",
        "\n",
        "x=[]\n",
        "y=[]\n",
        "for j in range(10):\n",
        "  x.append(j)\n",
        "  y.append(np.max(result[j]))\n",
        "\n",
        "  ax.scatter(x, y)\n",
        "\n",
        "ax.figure.show()"
      ],
      "metadata": {
        "id": "trkuqgss1ESL"
      },
      "execution_count": null,
      "outputs": []
    },
    {
      "cell_type": "code",
      "source": [
        "#solo resultados finales\n",
        "rf = []\n",
        "for k in range(10):\n",
        "  rf.append(np.max(result[k]))\n",
        "\n",
        "print(\"mínimo: {}\".format(np.nanmin(rf)))\n",
        "print(\"máximo: {}\".format(np.nanmax(rf)))\n",
        "print(\"media: {}\".format(np.nanmean(rf)))\n",
        "print(\"mediana: {}\".format(np.nanmedian(rf)))\n",
        "print(\"desviación estándar: {}\".format(np.nanstd(rf)))"
      ],
      "metadata": {
        "id": "fFnRuRY61GBS"
      },
      "execution_count": null,
      "outputs": []
    }
  ]
}